{
 "cells": [
  {
   "cell_type": "code",
   "execution_count": 1,
   "metadata": {},
   "outputs": [],
   "source": [
    "from selenium import webdriver\n",
    "from selenium.webdriver.chrome.service import Service\n",
    "from selenium.webdriver.chrome.options import Options\n",
    "from selenium.webdriver.chrome.service import Service as ChromeService\n",
    "from webdriver_manager.chrome import ChromeDriverManager\n",
    "from selenium.webdriver.common.by import By\n",
    "import pandas as pd\n",
    "import warnings\n",
    "import time\n",
    "warnings.filterwarnings(action='ignore')"
   ]
  },
  {
   "cell_type": "code",
   "execution_count": 2,
   "metadata": {},
   "outputs": [],
   "source": [
    "from selenium import webdriver\n",
    "from selenium.webdriver.chrome.service import Service as ChromeService\n",
    "from selenium.webdriver.common.by import By\n",
    "from selenium.webdriver.support.ui import WebDriverWait\n",
    "from selenium.webdriver.support import expected_conditions as EC\n",
    "from webdriver_manager.chrome import ChromeDriverManager\n",
    "\n",
    "# Set up the Chrome driver\n",
    "driver = webdriver.Chrome(service=ChromeService(ChromeDriverManager().install()))\n",
    "\n",
    "# URL of the website containing cocktails\n",
    "url = 'https://www.thecocktailproject.com/search-recipes/'\n",
    "\n",
    "# Open the website\n",
    "driver.get(url)\n",
    "\n",
    "# Wait for the page to load and for the cookie popup to disappear\n",
    "wait = WebDriverWait(driver, 10)\n",
    "wait.until(EC.invisibility_of_element_located((By.ID, 'onetrust-pc-btn-handler')))\n",
    "\n",
    "# Initialize an empty dictionary to store cocktail names, links, and image links\n",
    "cocktails_dict = {}\n",
    "\n",
    "# Loop through each page from 1 to 22\n",
    "for i in range(0, 22):\n",
    "    # Get the URL of the page\n",
    "    page_url = f\"https://www.thecocktailproject.com/search-recipes/?page={i}\"\n",
    "    # Visit the page\n",
    "    driver.get(page_url)\n",
    "    \n",
    "    # Wait for the cocktail elements to be present\n",
    "    cocktail_elements = wait.until(EC.visibility_of_all_elements_located((By.CSS_SELECTOR, '.receipe-grid-items')))\n",
    "\n",
    "    # Loop through each cocktail element on the current page\n",
    "    for cocktail_element in cocktail_elements:\n",
    "        # Extract name of the cocktail\n",
    "        name = cocktail_element.find_element(By.CSS_SELECTOR, '.item-desc a').text.strip()\n",
    "\n",
    "        # Extract link of the cocktail\n",
    "        link = cocktail_element.find_element(By.CSS_SELECTOR, '.item-detail a').get_attribute('href')\n",
    "\n",
    "        # Extract image link of the cocktail\n",
    "        image_element = cocktail_element.find_element(By.CSS_SELECTOR, '.field--name-field-recipe-image img')\n",
    "        image_link = image_element.get_attribute('src')\n",
    "        \n",
    "        \n",
    "        # Add the name, link, and image link of the cocktail to the dictionary\n",
    "        cocktails_dict[name] = {'link': link, 'image_link': image_link}\n",
    "\n",
    "# Close the browser\n",
    "driver.quit()\n"
   ]
  },
  {
   "cell_type": "code",
   "execution_count": 4,
   "metadata": {},
   "outputs": [
    {
     "ename": "InvalidSchema",
     "evalue": "No connection adapters were found for \"{'link': 'https://www.thecocktailproject.com/Espresso-Martini', 'image_link': 'https://www.thecocktailproject.com/sites/default/files/styles/grid-thumb/public/EspressoMartini.jpg?itok=161L5upy'}\"",
     "output_type": "error",
     "traceback": [
      "\u001b[1;31m---------------------------------------------------------------------------\u001b[0m",
      "\u001b[1;31mInvalidSchema\u001b[0m                             Traceback (most recent call last)",
      "\u001b[1;32mc:\\Users\\UW HK\\OneDrive\\문서\\GitHub\\Cocktail-recommendation\\crawling.ipynb Cell 3\u001b[0m in \u001b[0;36m<cell line: 11>\u001b[1;34m()\u001b[0m\n\u001b[0;32m     <a href='vscode-notebook-cell:/c%3A/Users/UW%20HK/OneDrive/%EB%AC%B8%EC%84%9C/GitHub/Cocktail-recommendation/crawling.ipynb#X10sZmlsZQ%3D%3D?line=9'>10</a>\u001b[0m \u001b[39m# Loop through each cocktail in the dictionary\u001b[39;00m\n\u001b[0;32m     <a href='vscode-notebook-cell:/c%3A/Users/UW%20HK/OneDrive/%EB%AC%B8%EC%84%9C/GitHub/Cocktail-recommendation/crawling.ipynb#X10sZmlsZQ%3D%3D?line=10'>11</a>\u001b[0m \u001b[39mfor\u001b[39;00m name, image_link \u001b[39min\u001b[39;00m cocktails_dict\u001b[39m.\u001b[39mitems():\n\u001b[0;32m     <a href='vscode-notebook-cell:/c%3A/Users/UW%20HK/OneDrive/%EB%AC%B8%EC%84%9C/GitHub/Cocktail-recommendation/crawling.ipynb#X10sZmlsZQ%3D%3D?line=11'>12</a>\u001b[0m     \n\u001b[0;32m     <a href='vscode-notebook-cell:/c%3A/Users/UW%20HK/OneDrive/%EB%AC%B8%EC%84%9C/GitHub/Cocktail-recommendation/crawling.ipynb#X10sZmlsZQ%3D%3D?line=12'>13</a>\u001b[0m     \u001b[39m# Save image as PNG with cocktail name as file name\u001b[39;00m\n\u001b[1;32m---> <a href='vscode-notebook-cell:/c%3A/Users/UW%20HK/OneDrive/%EB%AC%B8%EC%84%9C/GitHub/Cocktail-recommendation/crawling.ipynb#X10sZmlsZQ%3D%3D?line=13'>14</a>\u001b[0m     response \u001b[39m=\u001b[39m requests\u001b[39m.\u001b[39;49mget(image_link)\n\u001b[0;32m     <a href='vscode-notebook-cell:/c%3A/Users/UW%20HK/OneDrive/%EB%AC%B8%EC%84%9C/GitHub/Cocktail-recommendation/crawling.ipynb#X10sZmlsZQ%3D%3D?line=14'>15</a>\u001b[0m     \u001b[39mif\u001b[39;00m response\u001b[39m.\u001b[39mstatus_code \u001b[39m==\u001b[39m \u001b[39m200\u001b[39m:\n\u001b[0;32m     <a href='vscode-notebook-cell:/c%3A/Users/UW%20HK/OneDrive/%EB%AC%B8%EC%84%9C/GitHub/Cocktail-recommendation/crawling.ipynb#X10sZmlsZQ%3D%3D?line=15'>16</a>\u001b[0m         \u001b[39m# Remove special characters from the name\u001b[39;00m\n\u001b[0;32m     <a href='vscode-notebook-cell:/c%3A/Users/UW%20HK/OneDrive/%EB%AC%B8%EC%84%9C/GitHub/Cocktail-recommendation/crawling.ipynb#X10sZmlsZQ%3D%3D?line=17'>18</a>\u001b[0m         image_name \u001b[39m=\u001b[39m name\n",
      "File \u001b[1;32mc:\\Users\\UW HK\\anaconda3\\lib\\site-packages\\requests\\api.py:75\u001b[0m, in \u001b[0;36mget\u001b[1;34m(url, params, **kwargs)\u001b[0m\n\u001b[0;32m     64\u001b[0m \u001b[39mdef\u001b[39;00m \u001b[39mget\u001b[39m(url, params\u001b[39m=\u001b[39m\u001b[39mNone\u001b[39;00m, \u001b[39m*\u001b[39m\u001b[39m*\u001b[39mkwargs):\n\u001b[0;32m     65\u001b[0m     \u001b[39mr\u001b[39m\u001b[39m\"\"\"Sends a GET request.\u001b[39;00m\n\u001b[0;32m     66\u001b[0m \n\u001b[0;32m     67\u001b[0m \u001b[39m    :param url: URL for the new :class:`Request` object.\u001b[39;00m\n\u001b[1;32m   (...)\u001b[0m\n\u001b[0;32m     72\u001b[0m \u001b[39m    :rtype: requests.Response\u001b[39;00m\n\u001b[0;32m     73\u001b[0m \u001b[39m    \"\"\"\u001b[39;00m\n\u001b[1;32m---> 75\u001b[0m     \u001b[39mreturn\u001b[39;00m request(\u001b[39m'\u001b[39m\u001b[39mget\u001b[39m\u001b[39m'\u001b[39m, url, params\u001b[39m=\u001b[39mparams, \u001b[39m*\u001b[39m\u001b[39m*\u001b[39mkwargs)\n",
      "File \u001b[1;32mc:\\Users\\UW HK\\anaconda3\\lib\\site-packages\\requests\\api.py:61\u001b[0m, in \u001b[0;36mrequest\u001b[1;34m(method, url, **kwargs)\u001b[0m\n\u001b[0;32m     57\u001b[0m \u001b[39m# By using the 'with' statement we are sure the session is closed, thus we\u001b[39;00m\n\u001b[0;32m     58\u001b[0m \u001b[39m# avoid leaving sockets open which can trigger a ResourceWarning in some\u001b[39;00m\n\u001b[0;32m     59\u001b[0m \u001b[39m# cases, and look like a memory leak in others.\u001b[39;00m\n\u001b[0;32m     60\u001b[0m \u001b[39mwith\u001b[39;00m sessions\u001b[39m.\u001b[39mSession() \u001b[39mas\u001b[39;00m session:\n\u001b[1;32m---> 61\u001b[0m     \u001b[39mreturn\u001b[39;00m session\u001b[39m.\u001b[39mrequest(method\u001b[39m=\u001b[39mmethod, url\u001b[39m=\u001b[39murl, \u001b[39m*\u001b[39m\u001b[39m*\u001b[39mkwargs)\n",
      "File \u001b[1;32mc:\\Users\\UW HK\\anaconda3\\lib\\site-packages\\requests\\sessions.py:529\u001b[0m, in \u001b[0;36mSession.request\u001b[1;34m(self, method, url, params, data, headers, cookies, files, auth, timeout, allow_redirects, proxies, hooks, stream, verify, cert, json)\u001b[0m\n\u001b[0;32m    524\u001b[0m send_kwargs \u001b[39m=\u001b[39m {\n\u001b[0;32m    525\u001b[0m     \u001b[39m'\u001b[39m\u001b[39mtimeout\u001b[39m\u001b[39m'\u001b[39m: timeout,\n\u001b[0;32m    526\u001b[0m     \u001b[39m'\u001b[39m\u001b[39mallow_redirects\u001b[39m\u001b[39m'\u001b[39m: allow_redirects,\n\u001b[0;32m    527\u001b[0m }\n\u001b[0;32m    528\u001b[0m send_kwargs\u001b[39m.\u001b[39mupdate(settings)\n\u001b[1;32m--> 529\u001b[0m resp \u001b[39m=\u001b[39m \u001b[39mself\u001b[39m\u001b[39m.\u001b[39msend(prep, \u001b[39m*\u001b[39m\u001b[39m*\u001b[39msend_kwargs)\n\u001b[0;32m    531\u001b[0m \u001b[39mreturn\u001b[39;00m resp\n",
      "File \u001b[1;32mc:\\Users\\UW HK\\anaconda3\\lib\\site-packages\\requests\\sessions.py:639\u001b[0m, in \u001b[0;36mSession.send\u001b[1;34m(self, request, **kwargs)\u001b[0m\n\u001b[0;32m    636\u001b[0m hooks \u001b[39m=\u001b[39m request\u001b[39m.\u001b[39mhooks\n\u001b[0;32m    638\u001b[0m \u001b[39m# Get the appropriate adapter to use\u001b[39;00m\n\u001b[1;32m--> 639\u001b[0m adapter \u001b[39m=\u001b[39m \u001b[39mself\u001b[39;49m\u001b[39m.\u001b[39;49mget_adapter(url\u001b[39m=\u001b[39;49mrequest\u001b[39m.\u001b[39;49murl)\n\u001b[0;32m    641\u001b[0m \u001b[39m# Start time (approximately) of the request\u001b[39;00m\n\u001b[0;32m    642\u001b[0m start \u001b[39m=\u001b[39m preferred_clock()\n",
      "File \u001b[1;32mc:\\Users\\UW HK\\anaconda3\\lib\\site-packages\\requests\\sessions.py:732\u001b[0m, in \u001b[0;36mSession.get_adapter\u001b[1;34m(self, url)\u001b[0m\n\u001b[0;32m    729\u001b[0m         \u001b[39mreturn\u001b[39;00m adapter\n\u001b[0;32m    731\u001b[0m \u001b[39m# Nothing matches :-/\u001b[39;00m\n\u001b[1;32m--> 732\u001b[0m \u001b[39mraise\u001b[39;00m InvalidSchema(\u001b[39m\"\u001b[39m\u001b[39mNo connection adapters were found for \u001b[39m\u001b[39m{!r}\u001b[39;00m\u001b[39m\"\u001b[39m\u001b[39m.\u001b[39mformat(url))\n",
      "\u001b[1;31mInvalidSchema\u001b[0m: No connection adapters were found for \"{'link': 'https://www.thecocktailproject.com/Espresso-Martini', 'image_link': 'https://www.thecocktailproject.com/sites/default/files/styles/grid-thumb/public/EspressoMartini.jpg?itok=161L5upy'}\""
     ]
    }
   ],
   "source": [
    "# 만들어뒀던 dict 로 이미지 다운로드, 이미지 이름 문제 있는 것들 renaming 해서 그것도 다시 새로운 dict image_names에 저장\n",
    "import os\n",
    "import requests\n",
    "\n",
    "directory = \"images_halways\"\n",
    "image_names = {}\n",
    "if not os.path.exists(directory):\n",
    "    os.makedirs(directory)\n",
    "    \n",
    "# Loop through each cocktail in the dictionary\n",
    "for name, image_link in cocktails_dict.items():\n",
    "    \n",
    "    # Save image as PNG with cocktail name as file name\n",
    "    response = requests.get(image_link)\n",
    "    if response.status_code == 200:\n",
    "        # Remove special characters from the name\n",
    "       \n",
    "        image_name = name\n",
    "        image_name = image_name.replace(\"®\", \"\")\n",
    "        image_name = image_name.replace(\"\\n\",\"\")\n",
    "        image_names[name] = image_name\n",
    "        \n",
    "        # Define the file path\n",
    "        file_path = f\"images/{image_name}.png\"\n",
    "        \n",
    "        # Write the new image to file\n",
    "        with open(file_path, \"wb\") as f:\n",
    "            f.write(response.content)\n"
   ]
  },
  {
   "cell_type": "code",
   "execution_count": 5,
   "metadata": {},
   "outputs": [
    {
     "name": "stdout",
     "output_type": "stream",
     "text": [
      "Number of files in images: 440\n"
     ]
    }
   ],
   "source": [
    "# 이미지 총 개수 440인거 확인\n",
    "directory = \"images\"\n",
    "files = os.listdir(directory)\n",
    "num_files = len(files)\n",
    "\n",
    "# Print the number of files\n",
    "print(f\"Number of files in {directory}: {num_files}\")"
   ]
  },
  {
   "cell_type": "code",
   "execution_count": 6,
   "metadata": {},
   "outputs": [
    {
     "name": "stderr",
     "output_type": "stream",
     "text": [
      "\n",
      "KeyboardInterrupt\n",
      "\n"
     ]
    }
   ],
   "source": [
    "from selenium import webdriver\n",
    "from selenium.webdriver.chrome.service import Service as ChromeService\n",
    "from webdriver_manager.chrome import ChromeDriverManager\n",
    "from selenium.webdriver.common.by import By\n",
    "from selenium.webdriver.support.ui import WebDriverWait\n",
    "from selenium.webdriver.support import expected_conditions as EC\n",
    "\n",
    "# Set up the Chrome driver\n",
    "driver = webdriver.Chrome(service=ChromeService(ChromeDriverManager().install()))\n",
    "\n",
    "# Create an empty dictionary to store ingredients for each cocktail\n",
    "cocktails_with_ingredients = {}\n",
    "\n",
    "for name, data in cocktails_dict.items():\n",
    "    link = data['link']\n",
    "    driver.get(link)\n",
    "\n",
    "    # Wait for the page to load\n",
    "    WebDriverWait(driver, 10).until(EC.presence_of_element_located((By.CLASS_NAME, 'solid-block')))\n",
    "\n",
    "    # Find all div elements with the class \"title\" within the solid block\n",
    "    title_elements = driver.find_elements(By.CSS_SELECTOR, '.solid-block .title')\n",
    "\n",
    "    # Extract ingredient names from the title elements and replace special characters\n",
    "    #ingredient_names = [title.text.strip().replace('½', '1/2').replace('®', '').replace('¼', '1/4').replace('\\n', ' ') for title in title_elements]\n",
    "    # Extract ingredient names from the title elements and replace special characters\n",
    "    ingredient_names = [title.text.strip().replace('½', '1/2').replace('®', '').replace('¼', '1/4').replace('\\n', ' ') for title in title_elements if title.text.strip()]\n",
    "\n",
    "    # Assign the ingredient list to the current cocktail\n",
    "    data['ingredients'] = ingredient_names\n",
    "    \n",
    "    # Add the updated cocktail data to the new dictionary\n",
    "    cocktails_with_ingredients[name] = data\n",
    "\n",
    "# Update cocktails_dict with the new dictionary containing ingredient information\n",
    "cocktails_dict.update(cocktails_with_ingredients)\n",
    "\n",
    "# Close the browser\n",
    "driver.quit()\n"
   ]
  },
  {
   "cell_type": "code",
   "execution_count": 145,
   "metadata": {},
   "outputs": [
    {
     "ename": "TypeError",
     "evalue": "list indices must be integers or slices, not str",
     "output_type": "error",
     "traceback": [
      "\u001b[1;31m---------------------------------------------------------------------------\u001b[0m",
      "\u001b[1;31mTypeError\u001b[0m                                 Traceback (most recent call last)",
      "\u001b[1;32mc:\\Users\\UW HK\\OneDrive\\문서\\GitHub\\Cocktail-recommendation\\working.ipynb Cell 25\u001b[0m in \u001b[0;36m<cell line: 10>\u001b[1;34m()\u001b[0m\n\u001b[0;32m     <a href='vscode-notebook-cell:/c%3A/Users/UW%20HK/OneDrive/%EB%AC%B8%EC%84%9C/GitHub/Cocktail-recommendation/working.ipynb#X34sZmlsZQ%3D%3D?line=23'>24</a>\u001b[0m             writer\u001b[39m.\u001b[39mwriterow({\n\u001b[0;32m     <a href='vscode-notebook-cell:/c%3A/Users/UW%20HK/OneDrive/%EB%AC%B8%EC%84%9C/GitHub/Cocktail-recommendation/working.ipynb#X34sZmlsZQ%3D%3D?line=24'>25</a>\u001b[0m                 \u001b[39m'\u001b[39m\u001b[39mCocktail Name\u001b[39m\u001b[39m'\u001b[39m: cocktail_name,\n\u001b[0;32m     <a href='vscode-notebook-cell:/c%3A/Users/UW%20HK/OneDrive/%EB%AC%B8%EC%84%9C/GitHub/Cocktail-recommendation/working.ipynb#X34sZmlsZQ%3D%3D?line=25'>26</a>\u001b[0m                 \u001b[39m'\u001b[39m\u001b[39mLink\u001b[39m\u001b[39m'\u001b[39m: cocktail_info[\u001b[39m'\u001b[39m\u001b[39mlink\u001b[39m\u001b[39m'\u001b[39m],\n\u001b[0;32m     <a href='vscode-notebook-cell:/c%3A/Users/UW%20HK/OneDrive/%EB%AC%B8%EC%84%9C/GitHub/Cocktail-recommendation/working.ipynb#X34sZmlsZQ%3D%3D?line=26'>27</a>\u001b[0m                 \u001b[39m'\u001b[39m\u001b[39mImage Link\u001b[39m\u001b[39m'\u001b[39m: cocktail_info[\u001b[39m'\u001b[39m\u001b[39mimage_link\u001b[39m\u001b[39m'\u001b[39m],\n\u001b[0;32m     <a href='vscode-notebook-cell:/c%3A/Users/UW%20HK/OneDrive/%EB%AC%B8%EC%84%9C/GitHub/Cocktail-recommendation/working.ipynb#X34sZmlsZQ%3D%3D?line=27'>28</a>\u001b[0m                 \u001b[39m'\u001b[39m\u001b[39mIngredients\u001b[39m\u001b[39m'\u001b[39m: \u001b[39m'\u001b[39m\u001b[39m, \u001b[39m\u001b[39m'\u001b[39m\u001b[39m.\u001b[39mjoin(cocktail_info[\u001b[39m'\u001b[39m\u001b[39mingredients\u001b[39m\u001b[39m'\u001b[39m])\n\u001b[0;32m     <a href='vscode-notebook-cell:/c%3A/Users/UW%20HK/OneDrive/%EB%AC%B8%EC%84%9C/GitHub/Cocktail-recommendation/working.ipynb#X34sZmlsZQ%3D%3D?line=28'>29</a>\u001b[0m             })\n\u001b[0;32m     <a href='vscode-notebook-cell:/c%3A/Users/UW%20HK/OneDrive/%EB%AC%B8%EC%84%9C/GitHub/Cocktail-recommendation/working.ipynb#X34sZmlsZQ%3D%3D?line=29'>30</a>\u001b[0m         \u001b[39melse\u001b[39;00m:\n\u001b[0;32m     <a href='vscode-notebook-cell:/c%3A/Users/UW%20HK/OneDrive/%EB%AC%B8%EC%84%9C/GitHub/Cocktail-recommendation/working.ipynb#X34sZmlsZQ%3D%3D?line=30'>31</a>\u001b[0m             \u001b[39m# If the key does not exist, write an empty string for ingredients\u001b[39;00m\n\u001b[0;32m     <a href='vscode-notebook-cell:/c%3A/Users/UW%20HK/OneDrive/%EB%AC%B8%EC%84%9C/GitHub/Cocktail-recommendation/working.ipynb#X34sZmlsZQ%3D%3D?line=31'>32</a>\u001b[0m             writer\u001b[39m.\u001b[39mwriterow({\n\u001b[0;32m     <a href='vscode-notebook-cell:/c%3A/Users/UW%20HK/OneDrive/%EB%AC%B8%EC%84%9C/GitHub/Cocktail-recommendation/working.ipynb#X34sZmlsZQ%3D%3D?line=32'>33</a>\u001b[0m                 \u001b[39m'\u001b[39m\u001b[39mCocktail Name\u001b[39m\u001b[39m'\u001b[39m: cocktail_name,\n\u001b[1;32m---> <a href='vscode-notebook-cell:/c%3A/Users/UW%20HK/OneDrive/%EB%AC%B8%EC%84%9C/GitHub/Cocktail-recommendation/working.ipynb#X34sZmlsZQ%3D%3D?line=33'>34</a>\u001b[0m                 \u001b[39m'\u001b[39m\u001b[39mLink\u001b[39m\u001b[39m'\u001b[39m: cocktail_info[\u001b[39m'\u001b[39;49m\u001b[39mlink\u001b[39;49m\u001b[39m'\u001b[39;49m],\n\u001b[0;32m     <a href='vscode-notebook-cell:/c%3A/Users/UW%20HK/OneDrive/%EB%AC%B8%EC%84%9C/GitHub/Cocktail-recommendation/working.ipynb#X34sZmlsZQ%3D%3D?line=34'>35</a>\u001b[0m                 \u001b[39m'\u001b[39m\u001b[39mImage Link\u001b[39m\u001b[39m'\u001b[39m: cocktail_info[\u001b[39m'\u001b[39m\u001b[39mimage_link\u001b[39m\u001b[39m'\u001b[39m],\n\u001b[0;32m     <a href='vscode-notebook-cell:/c%3A/Users/UW%20HK/OneDrive/%EB%AC%B8%EC%84%9C/GitHub/Cocktail-recommendation/working.ipynb#X34sZmlsZQ%3D%3D?line=35'>36</a>\u001b[0m                 \u001b[39m'\u001b[39m\u001b[39mIngredients\u001b[39m\u001b[39m'\u001b[39m: \u001b[39m'\u001b[39m\u001b[39m'\u001b[39m\n\u001b[0;32m     <a href='vscode-notebook-cell:/c%3A/Users/UW%20HK/OneDrive/%EB%AC%B8%EC%84%9C/GitHub/Cocktail-recommendation/working.ipynb#X34sZmlsZQ%3D%3D?line=36'>37</a>\u001b[0m             })\n\u001b[0;32m     <a href='vscode-notebook-cell:/c%3A/Users/UW%20HK/OneDrive/%EB%AC%B8%EC%84%9C/GitHub/Cocktail-recommendation/working.ipynb#X34sZmlsZQ%3D%3D?line=38'>39</a>\u001b[0m \u001b[39mprint\u001b[39m(\u001b[39m\"\u001b[39m\u001b[39mCSV file created successfully!\u001b[39m\u001b[39m\"\u001b[39m)\n",
      "\u001b[1;31mTypeError\u001b[0m: list indices must be integers or slices, not str"
     ]
    }
   ],
   "source": [
    "import csv\n",
    "\n",
    "# Define the file name for the CSV file\n",
    "csv_file = 'cocktails_halways.csv'\n",
    "\n",
    "# Define the field names for the CSV file\n",
    "field_names = ['Cocktail Name', 'Link', 'Image Link', 'Ingredients']\n",
    "\n",
    "# Write the cocktails_dict to the CSV file\n",
    "with open(csv_file, 'w', newline='', encoding='utf-8') as file:\n",
    "    writer = csv.DictWriter(file, fieldnames=field_names)\n",
    "    \n",
    "    # Write the header row\n",
    "    writer.writeheader()\n",
    "    \n",
    "    # Write each cocktail entry\n",
    "    for cocktail_name, cocktail_info in cocktails_dict.items():\n",
    "        # Replace ® symbol with empty string in cocktail name\n",
    "        cocktail_name = cocktail_name.replace('®', '')\n",
    "        \n",
    "        # Check if the 'ingredients' key exists\n",
    "        if 'ingredients' in cocktail_info:\n",
    "            # If the key exists, write the ingredients as a comma-separated string\n",
    "            writer.writerow({\n",
    "                'Cocktail Name': cocktail_name,\n",
    "                'Link': cocktail_info['link'],\n",
    "                'Image Link': cocktail_info['image_link'],\n",
    "                'Ingredients': ', '.join(cocktail_info['ingredients'])\n",
    "            })\n",
    "        else:\n",
    "            # If the key does not exist, write an empty string for ingredients\n",
    "            writer.writerow({\n",
    "                'Cocktail Name': cocktail_name,\n",
    "                'Link': cocktail_info['link'],\n",
    "                'Image Link': cocktail_info['image_link'],\n",
    "                'Ingredients': ''\n",
    "            })\n",
    "\n",
    "print(\"CSV file created successfully!\")\n"
   ]
  },
  {
   "cell_type": "code",
   "execution_count": 154,
   "metadata": {},
   "outputs": [
    {
     "name": "stdout",
     "output_type": "stream",
     "text": [
      "Filtered cocktails saved to: filtered_cocktails7.csv\n"
     ]
    }
   ],
   "source": [
    "import csv\n",
    "\n",
    "# Function to filter out unwanted ingredients\n",
    "def filter_ingredients(ingredient_list):\n",
    "    # Words to check for in ingredient names\n",
    "    unwanted_words = ['How', 'When', 'What', 'Do', 'Where', 'Why', 'when', 'how', 'why', 'what', 'Cocktails', 'Cocktail', 'Home', 'home', 'Guide', 'Your', 'Bar', 'Party', 'Is', 'Should', 'vs.', 'The']\n",
    "    # Filter out ingredients that contain unwanted words\n",
    "    filtered_ingredients = [ingredient.strip() for ingredient in ingredient_list if not any(word in ingredient for word in unwanted_words)]\n",
    "    return filtered_ingredients\n",
    "\n",
    "# Define the file names for the input and output CSV files\n",
    "input_csv_file = 'cocktails_halways.csv'\n",
    "output_csv_file = 'filtered_cocktails_halways.csv'\n",
    "\n",
    "# Read the CSV file and filter ingredients\n",
    "filtered_cocktails_dict = {}\n",
    "with open(input_csv_file, 'r', newline='', encoding='utf-8') as file:\n",
    "    reader = csv.DictReader(file)\n",
    "    for row in reader:\n",
    "        cocktail_name = row['Cocktail Name']\n",
    "        ingredients = row['Ingredients'].split(', ')\n",
    "        filtered_ingredients = filter_ingredients(ingredients)\n",
    "        filtered_cocktails_dict[cocktail_name] = filtered_ingredients\n",
    "\n",
    "# Write the filtered data to a new CSV file\n",
    "with open(output_csv_file, 'w', newline='', encoding='utf-8') as file:\n",
    "    writer = csv.DictWriter(file, fieldnames=['Cocktail Name', 'Ingredients'])\n",
    "    writer.writeheader()\n",
    "    for cocktail_name, ingredients in filtered_cocktails_dict.items():\n",
    "        writer.writerow({'Cocktail Name': cocktail_name, 'Ingredients': ', '.join(ingredients)})\n",
    "\n",
    "print(\"Filtered cocktails saved to:\", output_csv_file)\n"
   ]
  }
 ],
 "metadata": {
  "kernelspec": {
   "display_name": "base",
   "language": "python",
   "name": "python3"
  },
  "language_info": {
   "codemirror_mode": {
    "name": "ipython",
    "version": 3
   },
   "file_extension": ".py",
   "mimetype": "text/x-python",
   "name": "python",
   "nbconvert_exporter": "python",
   "pygments_lexer": "ipython3",
   "version": "3.9.12"
  },
  "orig_nbformat": 4
 },
 "nbformat": 4,
 "nbformat_minor": 2
}
