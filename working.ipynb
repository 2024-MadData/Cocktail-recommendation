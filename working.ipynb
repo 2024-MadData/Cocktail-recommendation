{
 "cells": [
  {
   "cell_type": "code",
   "execution_count": 4,
   "metadata": {},
   "outputs": [],
   "source": [
    "from selenium import webdriver\n",
    "from selenium.webdriver.chrome.service import Service\n",
    "from selenium.webdriver.chrome.options import Options\n",
    "from selenium.webdriver.chrome.service import Service as ChromeService\n",
    "from webdriver_manager.chrome import ChromeDriverManager\n",
    "from selenium.webdriver.common.by import By\n",
    "import pandas as pd\n",
    "import warnings\n",
    "import time\n",
    "warnings.filterwarnings(action='ignore')"
   ]
  },
  {
   "cell_type": "code",
   "execution_count": 5,
   "metadata": {},
   "outputs": [],
   "source": [
    "# 드라이버 불러오기\n",
    "driver = webdriver.Chrome(service=ChromeService(ChromeDriverManager().install()))"
   ]
  },
  {
   "cell_type": "code",
   "execution_count": 23,
   "metadata": {},
   "outputs": [],
   "source": [
    "from selenium import webdriver\n",
    "from selenium.webdriver.chrome.service import Service as ChromeService\n",
    "from selenium.webdriver.common.by import By\n",
    "from webdriver_manager.chrome import ChromeDriverManager\n",
    "import time\n",
    "\n",
    "# Set up the Chrome driver\n",
    "driver = webdriver.Chrome(service=ChromeService(ChromeDriverManager().install()))\n",
    "\n",
    "# URL of the website\n",
    "url = 'https://www.thecocktailproject.com/search-recipes/'\n",
    "\n",
    "# Open the website\n",
    "driver.get(url)\n",
    "\n",
    "# Wait for the page to load\n",
    "time.sleep(1)\n",
    "\n",
    "# Find the birthday input fields and enter the date\n",
    "month_input = driver.find_element(By.ID, 'edit-month-of-birth')\n",
    "month_input.send_keys('08')\n",
    "\n",
    "day_input = driver.find_element(By.ID, 'edit-day-of-birth')\n",
    "day_input.send_keys('20')\n",
    "\n",
    "year_input = driver.find_element(By.ID, 'year')\n",
    "year_input.send_keys('1999')\n",
    "time.sleep(1)\n",
    "\n",
    "app_submit = driver.find_element(By.CSS_SELECTOR, 'app-submit')\n",
    "button_within_submit = app_submit.find_element(By.CSS_SELECTOR, 'button#edit-submit')\n",
    "button_within_submit.click()\n",
    "time.sleep(1)\n",
    "\n",
    "reject_all_button = driver.find_element(By.ID, 'onetrust-reject-all-handler')\n",
    "reject_all_button.click()\n",
    "time.sleep(1)\n",
    "\n",
    "#### 여기까지 access\n"
   ]
  },
  {
   "cell_type": "code",
   "execution_count": 53,
   "metadata": {},
   "outputs": [
    {
     "data": {
      "text/plain": [
       "24"
      ]
     },
     "execution_count": 53,
     "metadata": {},
     "output_type": "execute_result"
    }
   ],
   "source": [
    "from selenium import webdriver\n",
    "from selenium.webdriver.chrome.service import Service as ChromeService\n",
    "from selenium.webdriver.common.by import By\n",
    "from webdriver_manager.chrome import ChromeDriverManager\n",
    "import time\n",
    "\n",
    "# Set up the Chrome driver\n",
    "driver = webdriver.Chrome(service=ChromeService(ChromeDriverManager().install()))\n",
    "\n",
    "# URL of the website\n",
    "url = 'https://www.thecocktailproject.com/search-recipes/'\n",
    "\n",
    "# Open the website\n",
    "driver.get(url)\n",
    "\n",
    "# Wait for the page to load\n",
    "time.sleep(1)\n",
    "\n",
    "# Find the birthday input fields and enter the date\n",
    "month_input = driver.find_element(By.ID, 'edit-month-of-birth')\n",
    "month_input.send_keys('08')\n",
    "\n",
    "day_input = driver.find_element(By.ID, 'edit-day-of-birth')\n",
    "day_input.send_keys('20')\n",
    "\n",
    "year_input = driver.find_element(By.ID, 'year')\n",
    "year_input.send_keys('1999')\n",
    "time.sleep(1)\n",
    "\n",
    "app_submit = driver.find_element(By.CSS_SELECTOR, 'app-submit')\n",
    "button_within_submit = app_submit.find_element(By.CSS_SELECTOR, 'button#edit-submit')\n",
    "button_within_submit.click()\n",
    "time.sleep(1)\n",
    "\n",
    "reject_all_button = driver.find_element(By.ID, 'onetrust-reject-all-handler')\n",
    "reject_all_button.click()\n",
    "time.sleep(1)\n",
    "\n",
    "#### 여기까지 access\n",
    "\n",
    "# Find all cocktail elements\n",
    "cocktail_elements = driver.find_elements(By.CSS_SELECTOR, '.receipe-grid-items')\n",
    "\n",
    "# Initialize an empty dictionary to store cocktail names and links\n",
    "cocktails_dict = {}\n",
    "\n",
    "# Loop through each cocktail element\n",
    "for cocktail_element in cocktail_elements:\n",
    "    # Extract name of the cocktail\n",
    "    name = cocktail_element.find_element(By.CSS_SELECTOR, '.item-desc a').text.strip()\n",
    "    \n",
    "    # Extract link of the cocktail\n",
    "    link = cocktail_element.find_element(By.CSS_SELECTOR, '.item-detail a').get_attribute('href')\n",
    "    \n",
    "    # Add the name and link of the cocktail to the dictionary\n",
    "    cocktails_dict[name] = link\n",
    "\n",
    "len(cocktails_dict)\n",
    "# 첫 장 칵테일만 크롤링 완료 - 24개\n",
    "# 크롤링 잘 되는 거 확인하고 22페이지 for loop 돌리기"
   ]
  },
  {
   "cell_type": "code",
   "execution_count": 50,
   "metadata": {},
   "outputs": [],
   "source": [
    "from selenium import webdriver\n",
    "from selenium.webdriver.chrome.service import Service as ChromeService\n",
    "from selenium.webdriver.common.by import By\n",
    "from webdriver_manager.chrome import ChromeDriverManager\n",
    "import time\n",
    "\n",
    "# Set up the Chrome driver\n",
    "driver = webdriver.Chrome(service=ChromeService(ChromeDriverManager().install()))\n",
    "\n",
    "# URL of the website\n",
    "url = 'https://www.thecocktailproject.com/search-recipes/'\n",
    "\n",
    "# Open the website\n",
    "driver.get(url)\n",
    "\n",
    "# Wait for the page to load\n",
    "time.sleep(1)\n",
    "\n",
    "# Find the birthday input fields and enter the date\n",
    "month_input = driver.find_element(By.ID, 'edit-month-of-birth')\n",
    "month_input.send_keys('08')\n",
    "\n",
    "day_input = driver.find_element(By.ID, 'edit-day-of-birth')\n",
    "day_input.send_keys('20')\n",
    "\n",
    "year_input = driver.find_element(By.ID, 'year')\n",
    "year_input.send_keys('1999')\n",
    "time.sleep(1)\n",
    "\n",
    "app_submit = driver.find_element(By.CSS_SELECTOR, 'app-submit')\n",
    "button_within_submit = app_submit.find_element(By.CSS_SELECTOR, 'button#edit-submit')\n",
    "button_within_submit.click()\n",
    "time.sleep(1)\n",
    "\n",
    "reject_all_button = driver.find_element(By.ID, 'onetrust-reject-all-handler')\n",
    "reject_all_button.click()\n",
    "time.sleep(1)\n",
    "\n",
    "#### 여기까지 access\n",
    "\n",
    "# Find all cocktail elements\n",
    "# Initialize an empty dictionary to store cocktail names and links\n",
    "cocktails_dict = {}\n",
    "\n",
    "# Loop through each page from 1 to 22\n",
    "for i in range(0, 22):\n",
    "    # Get the URL of the page\n",
    "    page_url = f\"https://www.thecocktailproject.com/search-recipes/?page={i}\"\n",
    "    # Visit the page\n",
    "    driver.get(page_url)\n",
    "    \n",
    "    # Find all cocktail elements\n",
    "    cocktail_elements = driver.find_elements(By.CSS_SELECTOR, '.receipe-grid-items')\n",
    "\n",
    "    # Loop through each cocktail element on the current page\n",
    "    for cocktail_element in cocktail_elements:\n",
    "        # Extract name of the cocktail\n",
    "        name = cocktail_element.find_element(By.CSS_SELECTOR, '.item-desc a').text.strip()\n",
    "\n",
    "        # Extract link of the cocktail\n",
    "        link = cocktail_element.find_element(By.CSS_SELECTOR, '.item-detail a').get_attribute('href')\n",
    "\n",
    "        # Add the name and link of the cocktail to the dictionary\n",
    "        cocktails_dict[name] = link\n",
    "        \n",
    "driver.quit()"
   ]
  },
  {
   "cell_type": "code",
   "execution_count": 52,
   "metadata": {},
   "outputs": [
    {
     "data": {
      "text/plain": [
       "440"
      ]
     },
     "execution_count": 52,
     "metadata": {},
     "output_type": "execute_result"
    }
   ],
   "source": [
    "len(cocktails_dict)\n",
    "\n",
    "## 440.. 근데 528이어야함 ㅠ\n",
    "## 한 페이지에 칵테일 24개, 22페이지 = 24 * 22 = 528"
   ]
  },
  {
   "cell_type": "code",
   "execution_count": 39,
   "metadata": {},
   "outputs": [
    {
     "data": {
      "text/plain": [
       "'https://www.thecocktailproject.com/drink-recipes/lazy-day-colada'"
      ]
     },
     "execution_count": 39,
     "metadata": {},
     "output_type": "execute_result"
    }
   ],
   "source": [
    "cocktails_dict['Lazy Day Colada']\n",
    "## 칵테일 이름 몇개로 검색해도 잘은 나옴"
   ]
  },
  {
   "cell_type": "code",
   "execution_count": 86,
   "metadata": {},
   "outputs": [
    {
     "name": "stdout",
     "output_type": "stream",
     "text": [
      "16\n"
     ]
    },
    {
     "data": {
      "text/plain": [
       "24"
      ]
     },
     "execution_count": 86,
     "metadata": {},
     "output_type": "execute_result"
    }
   ],
   "source": [
    "from selenium import webdriver\n",
    "from selenium.webdriver.chrome.service import Service as ChromeService\n",
    "from selenium.webdriver.common.by import By\n",
    "from webdriver_manager.chrome import ChromeDriverManager\n",
    "import time\n",
    "\n",
    "# Set up the Chrome driver\n",
    "driver = webdriver.Chrome(service=ChromeService(ChromeDriverManager().install()))\n",
    "\n",
    "# URL of the website\n",
    "url = 'https://www.thecocktailproject.com/search-recipes/'\n",
    "\n",
    "# Open the website\n",
    "driver.get(url)\n",
    "\n",
    "# Wait for the page to load\n",
    "time.sleep(1)\n",
    "\n",
    "# Find the birthday input fields and enter the date\n",
    "month_input = driver.find_element(By.ID, 'edit-month-of-birth')\n",
    "month_input.send_keys('08')\n",
    "\n",
    "day_input = driver.find_element(By.ID, 'edit-day-of-birth')\n",
    "day_input.send_keys('20')\n",
    "\n",
    "year_input = driver.find_element(By.ID, 'year')\n",
    "year_input.send_keys('1999')\n",
    "time.sleep(1)\n",
    "\n",
    "app_submit = driver.find_element(By.CSS_SELECTOR, 'app-submit')\n",
    "button_within_submit = app_submit.find_element(By.CSS_SELECTOR, 'button#edit-submit')\n",
    "button_within_submit.click()\n",
    "time.sleep(1)\n",
    "\n",
    "reject_all_button = driver.find_element(By.ID, 'onetrust-reject-all-handler')\n",
    "reject_all_button.click()\n",
    "time.sleep(1)\n",
    "\n",
    "#### 여기까지 access\n",
    "\n",
    "# Find all cocktail elements\n",
    "# Initialize an empty dictionary to store cocktail names and links\n",
    "cocktails_dict = {}\n",
    "\n",
    "# Loop through each page from 1 to 22\n",
    "for i in range(16, 17):\n",
    "    # Get the URL of the page\n",
    "    page_url = f\"https://www.thecocktailproject.com/search-recipes/?page={i}\"\n",
    "    # Visit the page\n",
    "    driver.get(page_url)\n",
    "    print(i)\n",
    "    \n",
    "    # Find all cocktail elements\n",
    "    cocktail_elements = driver.find_elements(By.CSS_SELECTOR, '.receipe-grid-items')\n",
    "\n",
    "    # Loop through each cocktail element on the current page\n",
    "    for cocktail_element in cocktail_elements:\n",
    "        # Extract name of the cocktail\n",
    "        name = cocktail_element.find_element(By.CSS_SELECTOR, '.item-desc a').text.strip()\n",
    "\n",
    "        # Extract link of the cocktail\n",
    "        link = cocktail_element.find_element(By.CSS_SELECTOR, '.item-detail a').get_attribute('href')\n",
    "\n",
    "        # Add the name and link of the cocktail to the dictionary\n",
    "        cocktails_dict[name] = link\n",
    "        \n",
    "driver.quit()\n",
    "\n",
    "len(cocktails_dict)\n"
   ]
  },
  {
   "cell_type": "code",
   "execution_count": 63,
   "metadata": {},
   "outputs": [],
   "source": [
    "# 5페이지, ?page=4, 2개 누락\n",
    "# 11페이지, ?page=10, 10개 누락\n",
    "# 13페이지, ?page=12, 10개 누락\n",
    "# 14페이지, ?page=13, 11개 누락\n",
    "# 15페이지, ?page=14, 7개 누락\n",
    "# 16페이지, ?page=15, 11개 누락\n",
    "# 17페이지, ?page=16, 21개 누락 ##72개 누락\n"
   ]
  },
  {
   "cell_type": "code",
   "execution_count": null,
   "metadata": {},
   "outputs": [],
   "source": []
  }
 ],
 "metadata": {
  "kernelspec": {
   "display_name": "base",
   "language": "python",
   "name": "python3"
  },
  "language_info": {
   "codemirror_mode": {
    "name": "ipython",
    "version": 3
   },
   "file_extension": ".py",
   "mimetype": "text/x-python",
   "name": "python",
   "nbconvert_exporter": "python",
   "pygments_lexer": "ipython3",
   "version": "3.9.12"
  },
  "orig_nbformat": 4
 },
 "nbformat": 4,
 "nbformat_minor": 2
}
