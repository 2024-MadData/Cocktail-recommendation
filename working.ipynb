{
 "cells": [
  {
   "cell_type": "code",
   "execution_count": 4,
   "metadata": {},
   "outputs": [],
   "source": [
    "from selenium import webdriver\n",
    "from selenium.webdriver.chrome.service import Service\n",
    "from selenium.webdriver.chrome.options import Options\n",
    "from selenium.webdriver.chrome.service import Service as ChromeService\n",
    "from webdriver_manager.chrome import ChromeDriverManager\n",
    "from selenium.webdriver.common.by import By\n",
    "import pandas as pd\n",
    "import warnings\n",
    "import time\n",
    "warnings.filterwarnings(action='ignore')"
   ]
  },
  {
   "cell_type": "code",
   "execution_count": 5,
   "metadata": {},
   "outputs": [],
   "source": [
    "# 드라이버 불러오기\n",
    "driver = webdriver.Chrome(service=ChromeService(ChromeDriverManager().install()))"
   ]
  },
  {
   "cell_type": "code",
   "execution_count": 23,
   "metadata": {},
   "outputs": [],
   "source": [
    "from selenium import webdriver\n",
    "from selenium.webdriver.chrome.service import Service as ChromeService\n",
    "from selenium.webdriver.common.by import By\n",
    "from webdriver_manager.chrome import ChromeDriverManager\n",
    "import time\n",
    "\n",
    "# Set up the Chrome driver\n",
    "driver = webdriver.Chrome(service=ChromeService(ChromeDriverManager().install()))\n",
    "\n",
    "# URL of the website\n",
    "url = 'https://www.thecocktailproject.com/search-recipes/'\n",
    "\n",
    "# Open the website\n",
    "driver.get(url)\n",
    "\n",
    "# Wait for the page to load\n",
    "time.sleep(1)\n",
    "\n",
    "# Find the birthday input fields and enter the date\n",
    "month_input = driver.find_element(By.ID, 'edit-month-of-birth')\n",
    "month_input.send_keys('08')\n",
    "\n",
    "day_input = driver.find_element(By.ID, 'edit-day-of-birth')\n",
    "day_input.send_keys('20')\n",
    "\n",
    "year_input = driver.find_element(By.ID, 'year')\n",
    "year_input.send_keys('1999')\n",
    "time.sleep(1)\n",
    "\n",
    "app_submit = driver.find_element(By.CSS_SELECTOR, 'app-submit')\n",
    "button_within_submit = app_submit.find_element(By.CSS_SELECTOR, 'button#edit-submit')\n",
    "button_within_submit.click()\n",
    "time.sleep(1)\n",
    "\n",
    "reject_all_button = driver.find_element(By.ID, 'onetrust-reject-all-handler')\n",
    "reject_all_button.click()\n",
    "time.sleep(1)\n",
    "\n",
    "#### 여기까지 access\n"
   ]
  },
  {
   "cell_type": "code",
   "execution_count": 53,
   "metadata": {},
   "outputs": [
    {
     "data": {
      "text/plain": [
       "24"
      ]
     },
     "execution_count": 53,
     "metadata": {},
     "output_type": "execute_result"
    }
   ],
   "source": [
    "from selenium import webdriver\n",
    "from selenium.webdriver.chrome.service import Service as ChromeService\n",
    "from selenium.webdriver.common.by import By\n",
    "from webdriver_manager.chrome import ChromeDriverManager\n",
    "import time\n",
    "\n",
    "# Set up the Chrome driver\n",
    "driver = webdriver.Chrome(service=ChromeService(ChromeDriverManager().install()))\n",
    "\n",
    "# URL of the website\n",
    "url = 'https://www.thecocktailproject.com/search-recipes/'\n",
    "\n",
    "# Open the website\n",
    "driver.get(url)\n",
    "\n",
    "# Wait for the page to load\n",
    "time.sleep(1)\n",
    "\n",
    "# Find the birthday input fields and enter the date\n",
    "month_input = driver.find_element(By.ID, 'edit-month-of-birth')\n",
    "month_input.send_keys('08')\n",
    "\n",
    "day_input = driver.find_element(By.ID, 'edit-day-of-birth')\n",
    "day_input.send_keys('20')\n",
    "\n",
    "year_input = driver.find_element(By.ID, 'year')\n",
    "year_input.send_keys('1999')\n",
    "time.sleep(1)\n",
    "\n",
    "app_submit = driver.find_element(By.CSS_SELECTOR, 'app-submit')\n",
    "button_within_submit = app_submit.find_element(By.CSS_SELECTOR, 'button#edit-submit')\n",
    "button_within_submit.click()\n",
    "time.sleep(1)\n",
    "\n",
    "reject_all_button = driver.find_element(By.ID, 'onetrust-reject-all-handler')\n",
    "reject_all_button.click()\n",
    "time.sleep(1)\n",
    "\n",
    "#### 여기까지 access\n",
    "\n",
    "# Find all cocktail elements\n",
    "cocktail_elements = driver.find_elements(By.CSS_SELECTOR, '.receipe-grid-items')\n",
    "\n",
    "# Initialize an empty dictionary to store cocktail names and links\n",
    "cocktails_dict = {}\n",
    "\n",
    "# Loop through each cocktail element\n",
    "for cocktail_element in cocktail_elements:\n",
    "    # Extract name of the cocktail\n",
    "    name = cocktail_element.find_element(By.CSS_SELECTOR, '.item-desc a').text.strip()\n",
    "    \n",
    "    # Extract link of the cocktail\n",
    "    link = cocktail_element.find_element(By.CSS_SELECTOR, '.item-detail a').get_attribute('href')\n",
    "    \n",
    "    # Add the name and link of the cocktail to the dictionary\n",
    "    cocktails_dict[name] = link\n",
    "\n",
    "len(cocktails_dict)\n",
    "# 첫 장 칵테일만 크롤링 완료 - 24개\n",
    "# 크롤링 잘 되는 거 확인하고 22페이지 for loop 돌리기"
   ]
  },
  {
   "cell_type": "code",
   "execution_count": 50,
   "metadata": {},
   "outputs": [],
   "source": [
    "from selenium import webdriver\n",
    "from selenium.webdriver.chrome.service import Service as ChromeService\n",
    "from selenium.webdriver.common.by import By\n",
    "from webdriver_manager.chrome import ChromeDriverManager\n",
    "import time\n",
    "\n",
    "# Set up the Chrome driver\n",
    "driver = webdriver.Chrome(service=ChromeService(ChromeDriverManager().install()))\n",
    "\n",
    "# URL of the website\n",
    "url = 'https://www.thecocktailproject.com/search-recipes/'\n",
    "\n",
    "# Open the website\n",
    "driver.get(url)\n",
    "\n",
    "# Wait for the page to load\n",
    "time.sleep(1)\n",
    "\n",
    "# Find the birthday input fields and enter the date\n",
    "month_input = driver.find_element(By.ID, 'edit-month-of-birth')\n",
    "month_input.send_keys('08')\n",
    "\n",
    "day_input = driver.find_element(By.ID, 'edit-day-of-birth')\n",
    "day_input.send_keys('20')\n",
    "\n",
    "year_input = driver.find_element(By.ID, 'year')\n",
    "year_input.send_keys('1999')\n",
    "time.sleep(1)\n",
    "\n",
    "app_submit = driver.find_element(By.CSS_SELECTOR, 'app-submit')\n",
    "button_within_submit = app_submit.find_element(By.CSS_SELECTOR, 'button#edit-submit')\n",
    "button_within_submit.click()\n",
    "time.sleep(1)\n",
    "\n",
    "reject_all_button = driver.find_element(By.ID, 'onetrust-reject-all-handler')\n",
    "reject_all_button.click()\n",
    "time.sleep(1)\n",
    "\n",
    "#### 여기까지 access\n",
    "\n",
    "# Find all cocktail elements\n",
    "# Initialize an empty dictionary to store cocktail names and links\n",
    "cocktails_dict = {}\n",
    "\n",
    "# Loop through each page from 1 to 22\n",
    "for i in range(0, 22):\n",
    "    # Get the URL of the page\n",
    "    page_url = f\"https://www.thecocktailproject.com/search-recipes/?page={i}\"\n",
    "    # Visit the page\n",
    "    driver.get(page_url)\n",
    "    \n",
    "    # Find all cocktail elements\n",
    "    cocktail_elements = driver.find_elements(By.CSS_SELECTOR, '.receipe-grid-items')\n",
    "\n",
    "    # Loop through each cocktail element on the current page\n",
    "    for cocktail_element in cocktail_elements:\n",
    "        # Extract name of the cocktail\n",
    "        name = cocktail_element.find_element(By.CSS_SELECTOR, '.item-desc a').text.strip()\n",
    "\n",
    "        # Extract link of the cocktail\n",
    "        link = cocktail_element.find_element(By.CSS_SELECTOR, '.item-detail a').get_attribute('href')\n",
    "\n",
    "        # Add the name and link of the cocktail to the dictionary\n",
    "        cocktails_dict[name] = link\n",
    "        \n",
    "driver.quit()"
   ]
  },
  {
   "cell_type": "code",
   "execution_count": 52,
   "metadata": {},
   "outputs": [
    {
     "data": {
      "text/plain": [
       "440"
      ]
     },
     "execution_count": 52,
     "metadata": {},
     "output_type": "execute_result"
    }
   ],
   "source": [
    "len(cocktails_dict)\n",
    "\n",
    "## 440.. 근데 528이어야함 ㅠ\n",
    "## 한 페이지에 칵테일 24개, 22페이지 = 24 * 22 = 528\n",
    "## 이거 다 중복임 ㅆㅃ!!!!!!!!!!!!!!!1 것도 모르고 씨팔"
   ]
  },
  {
   "cell_type": "code",
   "execution_count": 39,
   "metadata": {},
   "outputs": [
    {
     "data": {
      "text/plain": [
       "'https://www.thecocktailproject.com/drink-recipes/lazy-day-colada'"
      ]
     },
     "execution_count": 39,
     "metadata": {},
     "output_type": "execute_result"
    }
   ],
   "source": [
    "cocktails_dict['Lazy Day Colada']\n",
    "## 칵테일 이름 몇개로 검색해도 잘은 나옴"
   ]
  },
  {
   "cell_type": "code",
   "execution_count": 91,
   "metadata": {},
   "outputs": [
    {
     "name": "stdout",
     "output_type": "stream",
     "text": [
      "Duplicate key count: 88\n"
     ]
    },
    {
     "data": {
      "text/plain": [
       "440"
      ]
     },
     "execution_count": 91,
     "metadata": {},
     "output_type": "execute_result"
    }
   ],
   "source": [
    "from selenium import webdriver\n",
    "from selenium.webdriver.chrome.service import Service as ChromeService\n",
    "from selenium.webdriver.common.by import By\n",
    "from webdriver_manager.chrome import ChromeDriverManager\n",
    "import time\n",
    "\n",
    "# Set up the Chrome driver\n",
    "driver = webdriver.Chrome(service=ChromeService(ChromeDriverManager().install()))\n",
    "\n",
    "# URL of the website\n",
    "url = 'https://www.thecocktailproject.com/search-recipes/'\n",
    "\n",
    "# Open the website\n",
    "driver.get(url)\n",
    "\n",
    "# Wait for the page to load\n",
    "time.sleep(1)\n",
    "\n",
    "# Find the birthday input fields and enter the date\n",
    "month_input = driver.find_element(By.ID, 'edit-month-of-birth')\n",
    "month_input.send_keys('08')\n",
    "\n",
    "day_input = driver.find_element(By.ID, 'edit-day-of-birth')\n",
    "day_input.send_keys('20')\n",
    "\n",
    "year_input = driver.find_element(By.ID, 'year')\n",
    "year_input.send_keys('1999')\n",
    "time.sleep(1)\n",
    "\n",
    "app_submit = driver.find_element(By.CSS_SELECTOR, 'app-submit')\n",
    "button_within_submit = app_submit.find_element(By.CSS_SELECTOR, 'button#edit-submit')\n",
    "button_within_submit.click()\n",
    "time.sleep(1)\n",
    "\n",
    "reject_all_button = driver.find_element(By.ID, 'onetrust-reject-all-handler')\n",
    "reject_all_button.click()\n",
    "time.sleep(1)\n",
    "\n",
    "#### 여기까지 access\n",
    "\n",
    "# Find all cocktail elements\n",
    "# Initialize an empty dictionary to store cocktail names and links\n",
    "cocktails_dict = {}\n",
    "duplicate_count = {}\n",
    "duplicate = 0\n",
    "# Loop through each page from 1 to 22\n",
    "for i in range(0, 22):\n",
    "    # Get the URL of the page\n",
    "    page_url = f\"https://www.thecocktailproject.com/search-recipes/?page={i}\"\n",
    "    # Visit the page\n",
    "    driver.get(page_url)\n",
    "    \n",
    "    # Find all cocktail elements\n",
    "    cocktail_elements = driver.find_elements(By.CSS_SELECTOR, '.receipe-grid-items')\n",
    "\n",
    "    # Loop through each cocktail element on the current page\n",
    "    for cocktail_element in cocktail_elements:\n",
    "        # Extract name of the cocktail\n",
    "        name = cocktail_element.find_element(By.CSS_SELECTOR, '.item-desc a').text.strip()\n",
    "\n",
    "        # Extract link of the cocktail\n",
    "        link = cocktail_element.find_element(By.CSS_SELECTOR, '.item-detail a').get_attribute('href')\n",
    "\n",
    "        if name in cocktails_dict:\n",
    "            # Increment the occurrence count of the key\n",
    "            duplicate_count[name] = duplicate_count.get(name, 0) + 1\n",
    "            duplicate += 1\n",
    "        else:\n",
    "            # Add the name and link of the cocktail to the dictionary\n",
    "            cocktails_dict[name] = link\n",
    "\n",
    "# Print the count of duplicate keys\n",
    "print(\"Duplicate key count: \" + str(duplicate))\n",
    "\n",
    "driver.quit()\n",
    "\n",
    "len(cocktails_dict)\n"
   ]
  },
  {
   "cell_type": "code",
   "execution_count": 106,
   "metadata": {},
   "outputs": [
    {
     "name": "stdout",
     "output_type": "stream",
     "text": [
      "0\n",
      "1\n",
      "2\n",
      "3\n",
      "4\n",
      "5\n",
      "6\n",
      "7\n",
      "8\n",
      "9\n",
      "10\n",
      "11\n",
      "12\n",
      "13\n",
      "14\n",
      "15\n",
      "16\n",
      "17\n",
      "18\n",
      "19\n",
      "20\n",
      "21\n"
     ]
    }
   ],
   "source": [
    "from selenium import webdriver\n",
    "from selenium.webdriver.chrome.service import Service as ChromeService\n",
    "from selenium.webdriver.common.by import By\n",
    "from selenium.webdriver.support.ui import WebDriverWait\n",
    "from selenium.webdriver.support import expected_conditions as EC\n",
    "from webdriver_manager.chrome import ChromeDriverManager\n",
    "\n",
    "# Set up the Chrome driver\n",
    "driver = webdriver.Chrome(service=ChromeService(ChromeDriverManager().install()))\n",
    "\n",
    "# URL of the website containing cocktails\n",
    "url = 'https://www.thecocktailproject.com/search-recipes/'\n",
    "\n",
    "# Open the website\n",
    "driver.get(url)\n",
    "\n",
    "# Wait for the page to load and for the cookie popup to disappear\n",
    "wait = WebDriverWait(driver, 10)\n",
    "wait.until(EC.invisibility_of_element_located((By.ID, 'onetrust-pc-btn-handler')))\n",
    "\n",
    "# Initialize an empty dictionary to store cocktail names, links, and image links\n",
    "cocktails_dict = {}\n",
    "\n",
    "# Loop through each page from 1 to 22\n",
    "for i in range(0, 22):\n",
    "    # Get the URL of the page\n",
    "    page_url = f\"https://www.thecocktailproject.com/search-recipes/?page={i}\"\n",
    "    # Visit the page\n",
    "    driver.get(page_url)\n",
    "    \n",
    "    # Wait for the cocktail elements to be present\n",
    "    cocktail_elements = wait.until(EC.visibility_of_all_elements_located((By.CSS_SELECTOR, '.receipe-grid-items')))\n",
    "\n",
    "    # Loop through each cocktail element on the current page\n",
    "    for cocktail_element in cocktail_elements:\n",
    "        # Extract name of the cocktail\n",
    "        name = cocktail_element.find_element(By.CSS_SELECTOR, '.item-desc a').text.strip()\n",
    "\n",
    "        # Extract link of the cocktail\n",
    "        link = cocktail_element.find_element(By.CSS_SELECTOR, '.item-detail a').get_attribute('href')\n",
    "\n",
    "        # Extract image link of the cocktail\n",
    "        image_element = cocktail_element.find_element(By.CSS_SELECTOR, '.field--name-field-recipe-image img')\n",
    "        image_link = image_element.get_attribute('src')\n",
    "        \n",
    "        \n",
    "        # Add the name, link, and image link of the cocktail to the dictionary\n",
    "        cocktails_dict[name] = {'link': link, 'image_link': image_link}\n",
    "\n",
    "# Close the browser\n",
    "driver.quit()\n"
   ]
  },
  {
   "cell_type": "code",
   "execution_count": 109,
   "metadata": {},
   "outputs": [
    {
     "data": {
      "text/plain": [
       "{'link': 'https://www.thecocktailproject.com/Espresso-Martini',\n",
       " 'image_link': 'https://www.thecocktailproject.com/sites/default/files/styles/grid-thumb/public/EspressoMartini.jpg?itok=161L5upy'}"
      ]
     },
     "execution_count": 109,
     "metadata": {},
     "output_type": "execute_result"
    }
   ],
   "source": [
    "cocktails_dict[\"Espresso Martini\"]"
   ]
  },
  {
   "cell_type": "code",
   "execution_count": 111,
   "metadata": {},
   "outputs": [
    {
     "name": "stdout",
     "output_type": "stream",
     "text": [
      "Ingredients:\n",
      "Ingredients2 partsSauza®Silver Tequila1 partDeKuyper®Triple Sec Liqueur½ partDeKuyper®Blue Curacao Liqueur2 partsLime JuiceGarnish: Lime, Blueberries,SaltShopping listBuy Now\n"
     ]
    }
   ],
   "source": [
    "from selenium import webdriver\n",
    "from selenium.webdriver.chrome.service import Service as ChromeService\n",
    "from webdriver_manager.chrome import ChromeDriverManager\n",
    "from selenium.webdriver.common.by import By\n",
    "from selenium.webdriver.support.ui import WebDriverWait\n",
    "from selenium.webdriver.support import expected_conditions as EC\n",
    "from bs4 import BeautifulSoup\n",
    "\n",
    "# Set up the Chrome driver\n",
    "driver = webdriver.Chrome(service=ChromeService(ChromeDriverManager().install()))\n",
    "\n",
    "# URL of the cocktail detail page\n",
    "url = 'https://www.thecocktailproject.com/drink-recipes/blue-margarita/'\n",
    "\n",
    "# Open the cocktail detail page\n",
    "driver.get(url)\n",
    "\n",
    "# Wait for the ingredients to load\n",
    "wait = WebDriverWait(driver, 10)\n",
    "ingredients_element = wait.until(EC.presence_of_element_located((By.CSS_SELECTOR, '.ingredients-block')))\n",
    "\n",
    "# Extract the ingredients\n",
    "ingredients_html = ingredients_element.get_attribute('innerHTML')\n",
    "ingredients_soup = BeautifulSoup(ingredients_html, 'html.parser')\n",
    "ingredients_text = ingredients_soup.get_text(strip=True)\n",
    "\n",
    "# Split the ingredients into separate lines\n",
    "ingredients_list = [line.strip() for line in ingredients_text.split('\\n') if line.strip()]\n",
    "\n",
    "print(\"Ingredients:\")\n",
    "for ingredient in ingredients_list:\n",
    "    print(ingredient)\n"
   ]
  },
  {
   "cell_type": "code",
   "execution_count": 119,
   "metadata": {},
   "outputs": [
    {
     "name": "stdout",
     "output_type": "stream",
     "text": [
      "Ingredients:\n",
      "2 parts Sauza® Silver Tequila \n",
      "1 part DeKuyper® Triple Sec Liqueur 1/2 part DeKuyper® Blue Curacao Liqueur \n",
      "2 parts Lime Juice Garnish: Lime, Blueberries, Salt SHOPPING LIST BUY NOW\n"
     ]
    }
   ],
   "source": [
    "import re\n",
    "from selenium import webdriver\n",
    "from selenium.webdriver.chrome.service import Service as ChromeService\n",
    "from webdriver_manager.chrome import ChromeDriverManager\n",
    "from selenium.webdriver.common.by import By\n",
    "from selenium.webdriver.support.ui import WebDriverWait\n",
    "from selenium.webdriver.support import expected_conditions as EC\n",
    "\n",
    "# Set up the Chrome driver\n",
    "driver = webdriver.Chrome(service=ChromeService(ChromeDriverManager().install()))\n",
    "\n",
    "# URL of the cocktail detail page\n",
    "url = 'https://www.thecocktailproject.com/drink-recipes/blue-margarita/'\n",
    "\n",
    "# Open the cocktail detail page\n",
    "driver.get(url)\n",
    "\n",
    "# Wait for the ingredients to load\n",
    "wait = WebDriverWait(driver, 10)\n",
    "ingredients_element = wait.until(EC.presence_of_element_located((By.CSS_SELECTOR, '.ingredients-block')))\n",
    "\n",
    "# Extract the ingredients\n",
    "ingredients_text = ingredients_element.text\n",
    "\n",
    "# Use regular expressions to split the text into separate lines\n",
    "ingredients_list = re.findall(r'\\d+\\s*(?:½|¼)?\\s*(?:parts|Garnish:)?\\s*\\S+\\s*\\S+\\s*[\\S\\s]*?(?=\\d+\\s*(?:½|¼)?\\s*(?:parts|Garnish:)?\\s*\\S+\\s*\\S+|$)', ingredients_text)\n",
    "\n",
    "# Replace '½' with '1/2' and '\\n' with ' ' for each element in the ingredients_list\n",
    "ingredients_list = [ingredient.replace('½', '1/2').replace('\\n', ' ').replace('¼', '1/4') for ingredient in ingredients_list]\n",
    "\n",
    "ingredients_list\n",
    "print(\"Ingredients:\")\n",
    "for ingredient in ingredients_list:\n",
    "    print(ingredient)\n"
   ]
  },
  {
   "cell_type": "code",
   "execution_count": 126,
   "metadata": {},
   "outputs": [
    {
     "data": {
      "text/plain": [
       "['2 parts Sauza® Silver Tequila ',\n",
       " '1 part DeKuyper® Triple Sec Liqueur 1/2 part DeKuyper® Blue Curacao Liqueur ',\n",
       " '2 parts Lime Juice Garnish: Lime, Blueberries, Salt SHOPPING LIST BUY NOW']"
      ]
     },
     "execution_count": 126,
     "metadata": {},
     "output_type": "execute_result"
    }
   ],
   "source": [
    "ingredients_list = [ingredient.replace('½', '\\n1/2') for ingredient in ingredients_list]\n",
    "ingredients_list = [ingredient.replace('\\n', ' ').replace('¼', '1/4') for ingredient in ingredients_list]\n",
    "\n",
    "ingredients_list"
   ]
  },
  {
   "cell_type": "code",
   "execution_count": null,
   "metadata": {},
   "outputs": [],
   "source": []
  }
 ],
 "metadata": {
  "kernelspec": {
   "display_name": "base",
   "language": "python",
   "name": "python3"
  },
  "language_info": {
   "codemirror_mode": {
    "name": "ipython",
    "version": 3
   },
   "file_extension": ".py",
   "mimetype": "text/x-python",
   "name": "python",
   "nbconvert_exporter": "python",
   "pygments_lexer": "ipython3",
   "version": "3.9.12"
  },
  "orig_nbformat": 4
 },
 "nbformat": 4,
 "nbformat_minor": 2
}
