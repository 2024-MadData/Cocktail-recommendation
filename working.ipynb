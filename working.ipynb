{
 "cells": [
  {
   "cell_type": "code",
   "execution_count": 4,
   "metadata": {},
   "outputs": [],
   "source": [
    "from selenium import webdriver\n",
    "from selenium.webdriver.chrome.service import Service\n",
    "from selenium.webdriver.chrome.options import Options\n",
    "from selenium.webdriver.chrome.service import Service as ChromeService\n",
    "from webdriver_manager.chrome import ChromeDriverManager\n",
    "from selenium.webdriver.common.by import By\n",
    "import pandas as pd\n",
    "import warnings\n",
    "import time\n",
    "warnings.filterwarnings(action='ignore')"
   ]
  },
  {
   "cell_type": "code",
   "execution_count": 6,
   "metadata": {},
   "outputs": [],
   "source": [
    "from selenium import webdriver\n",
    "from selenium.webdriver.chrome.service import Service as ChromeService\n",
    "from selenium.webdriver.common.by import By\n",
    "from webdriver_manager.chrome import ChromeDriverManager\n",
    "import time\n",
    "import csv\n",
    "\n",
    "# Set up the Chrome driver\n",
    "driver = webdriver.Chrome(service=ChromeService(ChromeDriverManager().install()))\n",
    "\n",
    "# URL of the website\n",
    "url = 'https://www.thecocktailproject.com/search-recipes/'\n",
    "\n",
    "# Open the website\n",
    "driver.get(url)\n",
    "driver.maximize_window()\n",
    "\n",
    "# Wait for the page to load\n",
    "time.sleep(1)\n",
    "\n",
    "# Find the birthday input fields and enter the date\n",
    "month_input = driver.find_element(By.ID, 'edit-month-of-birth')\n",
    "month_input.send_keys('08')\n",
    "\n",
    "day_input = driver.find_element(By.ID, 'edit-day-of-birth')\n",
    "day_input.send_keys('20')\n",
    "\n",
    "year_input = driver.find_element(By.ID, 'year')\n",
    "year_input.send_keys('1999')\n",
    "time.sleep(1)\n",
    "\n",
    "app_submit = driver.find_element(By.CSS_SELECTOR, 'app-submit')\n",
    "button_within_submit = app_submit.find_element(By.CSS_SELECTOR, 'button#edit-submit')\n",
    "button_within_submit.click()\n",
    "time.sleep(1)\n",
    "\n",
    "reject_all_button = driver.find_element(By.ID, 'onetrust-reject-all-handler')\n",
    "reject_all_button.click()\n",
    "time.sleep(1)\n",
    "\n",
    "#### 여기까지 access\n",
    "\n",
    "# Find all cocktail elements\n",
    "# Initialize an empty dictionary to store cocktail names and links\n",
    "cocktails_dict = {}\n",
    "\n",
    "# Loop through each page from 1 to 22\n",
    "for i in range(0, 22):\n",
    "    # Get the URL of the page\n",
    "    page_url = f\"https://www.thecocktailproject.com/search-recipes/?page={i}\"\n",
    "    # Visit the page\n",
    "    driver.get(page_url)\n",
    "    \n",
    "    # Find all cocktail elements\n",
    "    cocktail_elements = driver.find_elements(By.CSS_SELECTOR, '.receipe-grid-items')\n",
    "\n",
    "    # Loop through each cocktail element on the current page\n",
    "    for cocktail_element in cocktail_elements:\n",
    "    # Extract name of the cocktail\n",
    "        name = cocktail_element.find_element(By.CSS_SELECTOR, '.item-desc a').text.strip()\n",
    "        \n",
    "        # Extract link of the cocktail\n",
    "        link = cocktail_element.find_element(By.CSS_SELECTOR, '.item-detail a').get_attribute('href')\n",
    "        \n",
    "        driver.get(link)\n",
    "\n",
    "        ingredient_elements = driver.find_elements(By.CSS_SELECTOR, '.ingredients-block')\n",
    "        ingredients = [ingredient.text.strip() for ingredient in ingredient_elements]\n",
    "\n",
    "        spirit_elements = driver.find_elements(By.CLASS_NAME, 'drink-properties-incredible')\n",
    "        for spirit in spirit_elements:\n",
    "            try:\n",
    "                spirits = spirit_elements[0].find_element(By.TAG_NAME,'p').find_element(By.TAG_NAME,'a').text.strip() \n",
    "            except NoSuchElementException:\n",
    "                spirits='N/A'\n",
    "            try:\n",
    "                flavors = spirit_elements[1].find_element(By.TAG_NAME,'p').find_element(By.TAG_NAME,'a').text.strip()\n",
    "            except NoSuchElementException:\n",
    "                flavors='N/A'\n",
    "                \n",
    "        rating_elements = driver.find_elements(By.CSS_SELECTOR, '.rate-fivestar-btn-filled')\n",
    "        ratings = len(rating_elements)\n",
    "\n",
    "        rating_count_elements = driver.find_elements(By.CSS_SELECTOR, '.item-list ul li')\n",
    "        ratings_count = [rating_count.text.strip() for rating_count in rating_count_elements]\n",
    "        try:\n",
    "            ratings_count = [int(count) for count in ratings_count if count.isdigit()][0]\n",
    "        except IndexError:\n",
    "            ratings_count = 0\n",
    "\n",
    "\n",
    "    # Add the name and link of the cocktail to the dictionary\n",
    "        cocktails_dict[name] = {'link': link, 'ingredients': ingredients, 'main_spirit': spirits, 'flavor': flavors, 'rating': ratings, 'ratings_count': ratings_count}\n",
    "\n",
    "        driver.back()\n",
    "\n",
    "    \n",
    "        \n",
    "driver.quit()\n",
    "\n",
    "\n"
   ]
  },
  {
   "cell_type": "code",
   "execution_count": 13,
   "metadata": {},
   "outputs": [],
   "source": [
    "import csv\n",
    "import re\n",
    "\n",
    "csv_file = 'cocktails_data.csv'\n",
    "\n",
    "# Define fieldnames based on the keys of the dictionary\n",
    "fieldnames = ['Name', 'Link', 'Ingredients', 'Main Spirit', 'Flavor', 'Rating', 'Ratings Count']\n",
    "\n",
    "# Open the CSV file in 'write' mode\n",
    "with open(csv_file, 'w', newline='', encoding='utf-8') as file:\n",
    "    # Create a CSV writer object\n",
    "    writer = csv.DictWriter(file, fieldnames=fieldnames)\n",
    "\n",
    "    # Write header\n",
    "    writer.writeheader()\n",
    "\n",
    "    # Write data rows\n",
    "    for name, cocktail_data in cocktails_dict.items():\n",
    "\n",
    "        cleaned_name = re.sub(r'[^\\w\\s]', '', name)\n",
    "\n",
    "        writer.writerow({'Name': cleaned_name,\n",
    "                         'Link': cocktail_data['link'],\n",
    "                         'Ingredients': '\\n'.join(cocktail_data['ingredients']),\n",
    "                         'Main Spirit': cocktail_data['main_spirit'],\n",
    "                         'Flavor': cocktail_data['flavor'],\n",
    "                         'Rating': cocktail_data['rating'],\n",
    "                         'Ratings Count': cocktail_data['ratings_count']})"
   ]
  },
  {
   "cell_type": "code",
   "execution_count": 8,
   "metadata": {},
   "outputs": [
    {
     "data": {
      "text/plain": [
       "440"
      ]
     },
     "execution_count": 8,
     "metadata": {},
     "output_type": "execute_result"
    }
   ],
   "source": [
    "len(cocktails_dict)"
   ]
  },
  {
   "cell_type": "code",
   "execution_count": 7,
   "metadata": {},
   "outputs": [
    {
     "data": {
      "text/plain": [
       "{'link': 'https://www.thecocktailproject.com/drink-recipes/lazy-day-colada',\n",
       " 'ingredients': ['INGREDIENTS\\n1 part\\nDeKuyper® Pucker® Sour Apple Schnapps\\n1 part\\nCruzan® Aged Light Rum\\n2 1/4 parts\\nPina Colada Mix\\nSHOPPING LIST BUY NOW'],\n",
       " 'main_spirit': 'Cordials',\n",
       " 'flavor': 'Sweet',\n",
       " 'rating': 3,\n",
       " 'ratings_count': 40}"
      ]
     },
     "execution_count": 7,
     "metadata": {},
     "output_type": "execute_result"
    }
   ],
   "source": [
    "cocktails_dict['Lazy Day Colada']"
   ]
  }
 ],
 "metadata": {
  "kernelspec": {
   "display_name": "base",
   "language": "python",
   "name": "python3"
  },
  "language_info": {
   "codemirror_mode": {
    "name": "ipython",
    "version": 3
   },
   "file_extension": ".py",
   "mimetype": "text/x-python",
   "name": "python",
   "nbconvert_exporter": "python",
   "pygments_lexer": "ipython3",
   "version": "3.11.2"
  },
  "orig_nbformat": 4
 },
 "nbformat": 4,
 "nbformat_minor": 2
}
