{
 "cells": [
  {
   "cell_type": "code",
   "execution_count": 1,
   "metadata": {},
   "outputs": [],
   "source": [
    "from selenium import webdriver\n",
    "from selenium.webdriver.chrome.service import Service\n",
    "from selenium.webdriver.chrome.options import Options\n",
    "from selenium.webdriver.chrome.service import Service as ChromeService\n",
    "from webdriver_manager.chrome import ChromeDriverManager\n",
    "from selenium.webdriver.common.by import By\n",
    "import pandas as pd\n",
    "import warnings\n",
    "import time\n",
    "warnings.filterwarnings(action='ignore')"
   ]
  },
  {
   "cell_type": "code",
   "execution_count": 5,
   "metadata": {},
   "outputs": [],
   "source": [
    "# 드라이버 불러오기\n",
    "driver = webdriver.Chrome(service=ChromeService(ChromeDriverManager().install()))"
   ]
  },
  {
   "cell_type": "code",
   "execution_count": 23,
   "metadata": {},
   "outputs": [],
   "source": [
    "from selenium import webdriver\n",
    "from selenium.webdriver.chrome.service import Service as ChromeService\n",
    "from selenium.webdriver.common.by import By\n",
    "from webdriver_manager.chrome import ChromeDriverManager\n",
    "import time\n",
    "\n",
    "# Set up the Chrome driver\n",
    "driver = webdriver.Chrome(service=ChromeService(ChromeDriverManager().install()))\n",
    "\n",
    "# URL of the website\n",
    "url = 'https://www.thecocktailproject.com/search-recipes/'\n",
    "\n",
    "# Open the website\n",
    "driver.get(url)\n",
    "\n",
    "# Wait for the page to load\n",
    "time.sleep(1)\n",
    "\n",
    "# Find the birthday input fields and enter the date\n",
    "month_input = driver.find_element(By.ID, 'edit-month-of-birth')\n",
    "month_input.send_keys('08')\n",
    "\n",
    "day_input = driver.find_element(By.ID, 'edit-day-of-birth')\n",
    "day_input.send_keys('20')\n",
    "\n",
    "year_input = driver.find_element(By.ID, 'year')\n",
    "year_input.send_keys('1999')\n",
    "time.sleep(1)\n",
    "\n",
    "app_submit = driver.find_element(By.CSS_SELECTOR, 'app-submit')\n",
    "button_within_submit = app_submit.find_element(By.CSS_SELECTOR, 'button#edit-submit')\n",
    "button_within_submit.click()\n",
    "time.sleep(1)\n",
    "\n",
    "reject_all_button = driver.find_element(By.ID, 'onetrust-reject-all-handler')\n",
    "reject_all_button.click()\n",
    "time.sleep(1)\n",
    "\n",
    "#### 여기까지 access\n"
   ]
  },
  {
   "cell_type": "code",
   "execution_count": 53,
   "metadata": {},
   "outputs": [
    {
     "data": {
      "text/plain": [
       "24"
      ]
     },
     "execution_count": 53,
     "metadata": {},
     "output_type": "execute_result"
    }
   ],
   "source": [
    "from selenium import webdriver\n",
    "from selenium.webdriver.chrome.service import Service as ChromeService\n",
    "from selenium.webdriver.common.by import By\n",
    "from webdriver_manager.chrome import ChromeDriverManager\n",
    "import time\n",
    "\n",
    "# Set up the Chrome driver\n",
    "driver = webdriver.Chrome(service=ChromeService(ChromeDriverManager().install()))\n",
    "\n",
    "# URL of the website\n",
    "url = 'https://www.thecocktailproject.com/search-recipes/'\n",
    "\n",
    "# Open the website\n",
    "driver.get(url)\n",
    "\n",
    "# Wait for the page to load\n",
    "time.sleep(1)\n",
    "\n",
    "# Find the birthday input fields and enter the date\n",
    "month_input = driver.find_element(By.ID, 'edit-month-of-birth')\n",
    "month_input.send_keys('08')\n",
    "\n",
    "day_input = driver.find_element(By.ID, 'edit-day-of-birth')\n",
    "day_input.send_keys('20')\n",
    "\n",
    "year_input = driver.find_element(By.ID, 'year')\n",
    "year_input.send_keys('1999')\n",
    "time.sleep(1)\n",
    "\n",
    "app_submit = driver.find_element(By.CSS_SELECTOR, 'app-submit')\n",
    "button_within_submit = app_submit.find_element(By.CSS_SELECTOR, 'button#edit-submit')\n",
    "button_within_submit.click()\n",
    "time.sleep(1)\n",
    "\n",
    "reject_all_button = driver.find_element(By.ID, 'onetrust-reject-all-handler')\n",
    "reject_all_button.click()\n",
    "time.sleep(1)\n",
    "\n",
    "#### 여기까지 access\n",
    "\n",
    "# Find all cocktail elements\n",
    "cocktail_elements = driver.find_elements(By.CSS_SELECTOR, '.receipe-grid-items')\n",
    "\n",
    "# Initialize an empty dictionary to store cocktail names and links\n",
    "cocktails_dict = {}\n",
    "\n",
    "# Loop through each cocktail element\n",
    "for cocktail_element in cocktail_elements:\n",
    "    # Extract name of the cocktail\n",
    "    name = cocktail_element.find_element(By.CSS_SELECTOR, '.item-desc a').text.strip()\n",
    "    \n",
    "    # Extract link of the cocktail\n",
    "    link = cocktail_element.find_element(By.CSS_SELECTOR, '.item-detail a').get_attribute('href')\n",
    "    \n",
    "    # Add the name and link of the cocktail to the dictionary\n",
    "    cocktails_dict[name] = link\n",
    "\n",
    "len(cocktails_dict)\n",
    "# 첫 장 칵테일만 크롤링 완료 - 24개\n",
    "# 크롤링 잘 되는 거 확인하고 22페이지 for loop 돌리기"
   ]
  },
  {
   "cell_type": "code",
   "execution_count": 2,
   "metadata": {},
   "outputs": [],
   "source": [
    "from selenium import webdriver\n",
    "from selenium.webdriver.chrome.service import Service as ChromeService\n",
    "from selenium.webdriver.common.by import By\n",
    "from webdriver_manager.chrome import ChromeDriverManager\n",
    "import time\n",
    "\n",
    "# Set up the Chrome driver\n",
    "driver = webdriver.Chrome(service=ChromeService(ChromeDriverManager().install()))\n",
    "\n",
    "# URL of the website\n",
    "url = 'https://www.thecocktailproject.com/search-recipes/'\n",
    "\n",
    "# Open the website\n",
    "driver.get(url)\n",
    "\n",
    "# Wait for the page to load\n",
    "time.sleep(1)\n",
    "\n",
    "# Find the birthday input fields and enter the date\n",
    "month_input = driver.find_element(By.ID, 'edit-month-of-birth')\n",
    "month_input.send_keys('08')\n",
    "\n",
    "day_input = driver.find_element(By.ID, 'edit-day-of-birth')\n",
    "day_input.send_keys('20')\n",
    "\n",
    "year_input = driver.find_element(By.ID, 'year')\n",
    "year_input.send_keys('1999')\n",
    "time.sleep(1)\n",
    "\n",
    "app_submit = driver.find_element(By.CSS_SELECTOR, 'app-submit')\n",
    "button_within_submit = app_submit.find_element(By.CSS_SELECTOR, 'button#edit-submit')\n",
    "button_within_submit.click()\n",
    "time.sleep(1)\n",
    "\n",
    "reject_all_button = driver.find_element(By.ID, 'onetrust-reject-all-handler')\n",
    "reject_all_button.click()\n",
    "time.sleep(1)\n",
    "\n",
    "#### 여기까지 access\n",
    "\n",
    "# Find all cocktail elements\n",
    "# Initialize an empty dictionary to store cocktail names and links\n",
    "cocktails_dict = {}\n",
    "\n",
    "# Loop through each page from 1 to 22\n",
    "for i in range(0, 22):\n",
    "    # Get the URL of the page\n",
    "    page_url = f\"https://www.thecocktailproject.com/search-recipes/?page={i}\"\n",
    "    # Visit the page\n",
    "    driver.get(page_url)\n",
    "    \n",
    "    # Find all cocktail elements\n",
    "    cocktail_elements = driver.find_elements(By.CSS_SELECTOR, '.receipe-grid-items')\n",
    "\n",
    "    # Loop through each cocktail element on the current page\n",
    "    for cocktail_element in cocktail_elements:\n",
    "        # Extract name of the cocktail\n",
    "        name = cocktail_element.find_element(By.CSS_SELECTOR, '.item-desc a').text.strip()\n",
    "\n",
    "        # Extract link of the cocktail\n",
    "        link = cocktail_element.find_element(By.CSS_SELECTOR, '.item-detail a').get_attribute('href')\n",
    "\n",
    "        # Add the name and link of the cocktail to the dictionary\n",
    "        cocktails_dict[name] = link\n",
    "        \n",
    "driver.quit()"
   ]
  },
  {
   "cell_type": "code",
   "execution_count": 3,
   "metadata": {},
   "outputs": [
    {
     "data": {
      "text/plain": [
       "440"
      ]
     },
     "execution_count": 3,
     "metadata": {},
     "output_type": "execute_result"
    }
   ],
   "source": [
    "len(cocktails_dict)\n",
    "\n",
    "## 440.. 근데 528이어야함 ㅠ\n",
    "## 한 페이지에 칵테일 24개, 22페이지 = 24 * 22 = 528\n",
    "## 이거 다 중복임 ㅆㅃ!!!!!!!!!!!!!!!1 것도 모르고 씨팔"
   ]
  },
  {
   "cell_type": "code",
   "execution_count": 39,
   "metadata": {},
   "outputs": [
    {
     "data": {
      "text/plain": [
       "'https://www.thecocktailproject.com/drink-recipes/lazy-day-colada'"
      ]
     },
     "execution_count": 39,
     "metadata": {},
     "output_type": "execute_result"
    }
   ],
   "source": [
    "cocktails_dict['Lazy Day Colada']\n",
    "## 칵테일 이름 몇개로 검색해도 잘은 나옴"
   ]
  },
  {
   "cell_type": "code",
   "execution_count": 91,
   "metadata": {},
   "outputs": [
    {
     "name": "stdout",
     "output_type": "stream",
     "text": [
      "Duplicate key count: 88\n"
     ]
    },
    {
     "data": {
      "text/plain": [
       "440"
      ]
     },
     "execution_count": 91,
     "metadata": {},
     "output_type": "execute_result"
    }
   ],
   "source": [
    "from selenium import webdriver\n",
    "from selenium.webdriver.chrome.service import Service as ChromeService\n",
    "from selenium.webdriver.common.by import By\n",
    "from webdriver_manager.chrome import ChromeDriverManager\n",
    "import time\n",
    "\n",
    "# Set up the Chrome driver\n",
    "driver = webdriver.Chrome(service=ChromeService(ChromeDriverManager().install()))\n",
    "\n",
    "# URL of the website\n",
    "url = 'https://www.thecocktailproject.com/search-recipes/'\n",
    "\n",
    "# Open the website\n",
    "driver.get(url)\n",
    "\n",
    "# Wait for the page to load\n",
    "time.sleep(1)\n",
    "\n",
    "# Find the birthday input fields and enter the date\n",
    "month_input = driver.find_element(By.ID, 'edit-month-of-birth')\n",
    "month_input.send_keys('08')\n",
    "\n",
    "day_input = driver.find_element(By.ID, 'edit-day-of-birth')\n",
    "day_input.send_keys('20')\n",
    "\n",
    "year_input = driver.find_element(By.ID, 'year')\n",
    "year_input.send_keys('1999')\n",
    "time.sleep(1)\n",
    "\n",
    "app_submit = driver.find_element(By.CSS_SELECTOR, 'app-submit')\n",
    "button_within_submit = app_submit.find_element(By.CSS_SELECTOR, 'button#edit-submit')\n",
    "button_within_submit.click()\n",
    "time.sleep(1)\n",
    "\n",
    "reject_all_button = driver.find_element(By.ID, 'onetrust-reject-all-handler')\n",
    "reject_all_button.click()\n",
    "time.sleep(1)\n",
    "\n",
    "#### 여기까지 access\n",
    "\n",
    "# Find all cocktail elements\n",
    "# Initialize an empty dictionary to store cocktail names and links\n",
    "cocktails_dict = {}\n",
    "duplicate_count = {}\n",
    "duplicate = 0\n",
    "# Loop through each page from 1 to 22\n",
    "for i in range(0, 22):\n",
    "    # Get the URL of the page\n",
    "    page_url = f\"https://www.thecocktailproject.com/search-recipes/?page={i}\"\n",
    "    # Visit the page\n",
    "    driver.get(page_url)\n",
    "    \n",
    "    # Find all cocktail elements\n",
    "    cocktail_elements = driver.find_elements(By.CSS_SELECTOR, '.receipe-grid-items')\n",
    "\n",
    "    # Loop through each cocktail element on the current page\n",
    "    for cocktail_element in cocktail_elements:\n",
    "        # Extract name of the cocktail\n",
    "        name = cocktail_element.find_element(By.CSS_SELECTOR, '.item-desc a').text.strip()\n",
    "\n",
    "        # Extract link of the cocktail\n",
    "        link = cocktail_element.find_element(By.CSS_SELECTOR, '.item-detail a').get_attribute('href')\n",
    "\n",
    "        if name in cocktails_dict:\n",
    "            # Increment the occurrence count of the key\n",
    "            duplicate_count[name] = duplicate_count.get(name, 0) + 1\n",
    "            duplicate += 1\n",
    "        else:\n",
    "            # Add the name and link of the cocktail to the dictionary\n",
    "            cocktails_dict[name] = link\n",
    "\n",
    "# Print the count of duplicate keys\n",
    "print(\"Duplicate key count: \" + str(duplicate))\n",
    "\n",
    "driver.quit()\n",
    "\n",
    "len(cocktails_dict)\n"
   ]
  },
  {
   "cell_type": "code",
   "execution_count": 106,
   "metadata": {},
   "outputs": [
    {
     "name": "stdout",
     "output_type": "stream",
     "text": [
      "0\n",
      "1\n",
      "2\n",
      "3\n",
      "4\n",
      "5\n",
      "6\n",
      "7\n",
      "8\n",
      "9\n",
      "10\n",
      "11\n",
      "12\n",
      "13\n",
      "14\n",
      "15\n",
      "16\n",
      "17\n",
      "18\n",
      "19\n",
      "20\n",
      "21\n"
     ]
    }
   ],
   "source": [
    "from selenium import webdriver\n",
    "from selenium.webdriver.chrome.service import Service as ChromeService\n",
    "from selenium.webdriver.common.by import By\n",
    "from selenium.webdriver.support.ui import WebDriverWait\n",
    "from selenium.webdriver.support import expected_conditions as EC\n",
    "from webdriver_manager.chrome import ChromeDriverManager\n",
    "\n",
    "# Set up the Chrome driver\n",
    "driver = webdriver.Chrome(service=ChromeService(ChromeDriverManager().install()))\n",
    "\n",
    "# URL of the website containing cocktails\n",
    "url = 'https://www.thecocktailproject.com/search-recipes/'\n",
    "\n",
    "# Open the website\n",
    "driver.get(url)\n",
    "\n",
    "# Wait for the page to load and for the cookie popup to disappear\n",
    "wait = WebDriverWait(driver, 10)\n",
    "wait.until(EC.invisibility_of_element_located((By.ID, 'onetrust-pc-btn-handler')))\n",
    "\n",
    "# Initialize an empty dictionary to store cocktail names, links, and image links\n",
    "cocktails_dict = {}\n",
    "\n",
    "# Loop through each page from 1 to 22\n",
    "for i in range(0, 22):\n",
    "    # Get the URL of the page\n",
    "    page_url = f\"https://www.thecocktailproject.com/search-recipes/?page={i}\"\n",
    "    # Visit the page\n",
    "    driver.get(page_url)\n",
    "    \n",
    "    # Wait for the cocktail elements to be present\n",
    "    cocktail_elements = wait.until(EC.visibility_of_all_elements_located((By.CSS_SELECTOR, '.receipe-grid-items')))\n",
    "\n",
    "    # Loop through each cocktail element on the current page\n",
    "    for cocktail_element in cocktail_elements:\n",
    "        # Extract name of the cocktail\n",
    "        name = cocktail_element.find_element(By.CSS_SELECTOR, '.item-desc a').text.strip()\n",
    "\n",
    "        # Extract link of the cocktail\n",
    "        link = cocktail_element.find_element(By.CSS_SELECTOR, '.item-detail a').get_attribute('href')\n",
    "\n",
    "        # Extract image link of the cocktail\n",
    "        image_element = cocktail_element.find_element(By.CSS_SELECTOR, '.field--name-field-recipe-image img')\n",
    "        image_link = image_element.get_attribute('src')\n",
    "        \n",
    "        \n",
    "        # Add the name, link, and image link of the cocktail to the dictionary\n",
    "        cocktails_dict[name] = {'link': link, 'image_link': image_link}\n",
    "\n",
    "# Close the browser\n",
    "driver.quit()\n"
   ]
  },
  {
   "cell_type": "code",
   "execution_count": 10,
   "metadata": {},
   "outputs": [],
   "source": [
    "import os\n",
    "import requests\n",
    "\n",
    "# Loop through each cocktail in the dictionary\n",
    "for name, image_link in cocktails_dict.items():\n",
    "    \n",
    "    # Save image as PNG with cocktail name as file name\n",
    "    response = requests.get(image_link)\n",
    "    if response.status_code == 200:\n",
    "        # Remove special characters from the name\n",
    "        name = name.replace(\"®\", \"\")\n",
    "        name = name.replace(\"\\n\",\"\")\n",
    "        \n",
    "        # Define the file path\n",
    "        file_path = f\"cocktail_images/{name}.png\"\n",
    "        \n",
    "        # Check if the file already exists\n",
    "        if os.path.exists(file_path):\n",
    "            os.remove(file_path)  # Remove the existing file\n",
    "        \n",
    "        # Write the new image to file\n",
    "        with open(file_path, \"wb\") as f:\n",
    "            f.write(response.content)\n"
   ]
  },
  {
   "cell_type": "code",
   "execution_count": 11,
   "metadata": {},
   "outputs": [
    {
     "name": "stdout",
     "output_type": "stream",
     "text": [
      "Number of files in cocktail_images: 450\n"
     ]
    }
   ],
   "source": [
    "import os\n",
    "\n",
    "# Directory containing the cocktail images\n",
    "directory = \"cocktail_images\"\n",
    "\n",
    "# Get the list of files in the directory\n",
    "files = os.listdir(directory)\n",
    "\n",
    "# Count the number of files\n",
    "num_files = len(files)\n",
    "\n",
    "# Print the number of files\n",
    "print(f\"Number of files in {directory}: {num_files}\")\n"
   ]
  },
  {
   "cell_type": "code",
   "execution_count": 13,
   "metadata": {},
   "outputs": [],
   "source": [
    "import requests\n",
    "\n",
    "directory = \"images\"\n",
    "if not os.path.exists(directory):\n",
    "    os.makedirs(directory)\n",
    "    \n",
    "# Loop through each cocktail in the dictionary\n",
    "for name, image_link in cocktails_dict.items():\n",
    "    \n",
    "    # Save image as PNG with cocktail name as file name\n",
    "    response = requests.get(image_link)\n",
    "    if response.status_code == 200:\n",
    "        # Remove special characters from the name\n",
    "        name = name.replace(\"®\", \"\")\n",
    "        name = name.replace(\"\\n\",\"\")\n",
    "        \n",
    "        # Define the file path\n",
    "        file_path = f\"images/{name}.png\"\n",
    "        \n",
    "        # Write the new image to file\n",
    "        with open(file_path, \"wb\") as f:\n",
    "            f.write(response.content)\n"
   ]
  },
  {
   "cell_type": "code",
   "execution_count": 14,
   "metadata": {},
   "outputs": [
    {
     "name": "stdout",
     "output_type": "stream",
     "text": [
      "Number of files in images: 440\n"
     ]
    }
   ],
   "source": [
    "import os\n",
    "directory = \"images\"\n",
    "files = os.listdir(directory)\n",
    "num_files = len(files)\n",
    "\n",
    "# Print the number of files\n",
    "print(f\"Number of files in {directory}: {num_files}\")"
   ]
  },
  {
   "cell_type": "code",
   "execution_count": 5,
   "metadata": {},
   "outputs": [
    {
     "data": {
      "text/plain": [
       "dict_items([('Espresso Martini', 'https://www.thecocktailproject.com/Espresso-Martini'), ('French 75', 'https://www.thecocktailproject.com/French-75'), ('Last Word', 'https://www.thecocktailproject.com/Last-Word'), ('Tom Collins', 'https://www.thecocktailproject.com/Tom-Collins'), ('Tokyo Collins', 'https://www.thecocktailproject.com/Tokyo-Collins'), ('Gin Basil Smash', 'https://www.thecocktailproject.com/drink-recipes/gin-basil-smash'), ('Japanese Gin Sour', 'https://www.thecocktailproject.com/Japanese-Gin-Sour'), ('Gimlet', 'https://www.thecocktailproject.com/drink-recipes/gimlet'), ('Kentucky Mule', 'https://www.thecocktailproject.com/Kentucky-Mule'), ('Vesper', 'https://www.thecocktailproject.com/Vesper'), ('Sazerac', 'https://www.thecocktailproject.com/Sazerac'), (\"Bee's Knees\", 'https://www.thecocktailproject.com/Bees-Knees'), ('Jim Beam® and Ginger Highball', 'https://www.thecocktailproject.com/drink-recipes/jim-beam-ginger-highball'), ('Midori® Pot of Gold', 'https://www.thecocktailproject.com/drink-recipes/midori-pot-gold'), (\"'Tea' New Fashioned\", 'https://www.thecocktailproject.com/Tea-New-Fashioned'), ('Smoked Maple Old Fashioned', 'https://www.thecocktailproject.com/Smoked-Maple-Old-Fashioned'), ('Kentucky Made', 'https://www.thecocktailproject.com/Kentucky-Made'), ('Bourbon Renewal', 'https://www.thecocktailproject.com/Bourbon-Renewal'), ('Kentucky Buck', 'https://www.thecocktailproject.com/Kentucky-buck'), ('Ginger Buck', 'https://www.thecocktailproject.com/ginger-buck'), ('Hemingway Daiquiri', 'https://www.thecocktailproject.com/drink-recipes/hemingway-daiquiri'), ('Sparkling Berry Sangria', 'https://www.thecocktailproject.com/drink-recipes/sparkling-berry-sangria'), ('Tickled Pink', 'https://www.thecocktailproject.com/drink-recipes/tickled-pink'), ('The Berry Thought of You', 'https://www.thecocktailproject.com/drink-recipes/the-berry-thought-of-you'), ('Strawberry Crush', 'https://www.thecocktailproject.com/drink-recipes/strawberry-crush'), ('Mai Tai', 'https://www.thecocktailproject.com/drink-recipes/mai-tai'), ('Piña Colada', 'https://www.thecocktailproject.com/drink-recipes/pina-colada'), ('Don Francisco Margarita', 'https://www.thecocktailproject.com/drink-recipes/don-francisco-margarita'), ('Hornitos® Paloma', 'https://www.thecocktailproject.com/drink-recipes/hornitos-paloma'), ('Pinnacle® Raspberry Lemonade', 'https://www.thecocktailproject.com/drink-recipes/pinnacle-raspberry-lemonade'), (\"Maker's Mark® Paper Plane\", 'https://www.thecocktailproject.com/drink-recipes/makers-mark-paper-plane'), (\"Maker's Mark®\\nBourbon Spritz\", 'https://www.thecocktailproject.com/drink-recipes/makers-mark-bourbon-spritz'), (\"Basil Hayden's® Golden Hour\", 'https://www.thecocktailproject.com/drink-recipes/basil-haydens-golden-hour'), ('Cruzan®\\nSpiced Apple Cider', 'https://www.thecocktailproject.com/drink-recipes/spiced-apple-cider'), ('CV® The French Twist', 'https://www.thecocktailproject.com/drink-recipes/cv-french-twist'), ('Cruzan® Cider Punch', 'https://www.thecocktailproject.com/drink-recipes/cruzan-cider-punch'), ('Sipsmith® Negroni', 'https://www.thecocktailproject.com/drink-recipes/sipsmith-negroni'), ('CC® Ginger Ale', 'https://www.thecocktailproject.com/drink-recipes/canadian-club-ginger-ale'), ('Bruxo® Mezcal Mule', 'https://www.thecocktailproject.com/drink-recipes/bruxo-mezcal-mule'), (\"Maker's Mark® Merry Berry Buck\", 'https://www.thecocktailproject.com/drink-recipes/merry-berry-buck'), ('Hornitos® Ranch Water', 'https://www.thecocktailproject.com/drink-recipes/Hornitos-ranch-water'), ('Sipsmith® Gin and Tonic', 'https://www.thecocktailproject.com/drink-recipes/gin-and-tonic'), ('Pinnacle® Mule', 'https://www.thecocktailproject.com/drink-recipes/pinnacle-moscow-mule'), ('Sauza® Mexican Paloma', 'https://www.thecocktailproject.com/drink-recipes/sauza-mexican-paloma'), ('SQRRL® PB&J Shot', 'https://www.thecocktailproject.com/drink-recipes/sqrrl-pbj-shot'), ('DeKuyper® End of the Rainbow', 'https://www.thecocktailproject.com/drink-recipes/dekuyper-end-of-rainbow'), (\"Maker's Mark® Hot Apple Cider\", 'https://www.thecocktailproject.com/drink-recipes/makers-mark-hot-apple-cider'), ('Haku® Martini', 'https://www.thecocktailproject.com/drink-recipes/haku-martini-vodka'), (\"Baker's® Midnight Manhattan\", 'https://www.thecocktailproject.com/drink-recipes/bakers-midnight-manhattan'), (\"Legent® Sea 'New' Fashioned\", 'https://www.thecocktailproject.com/drink-recipes/legent-sea-new-fashioned'), ('EFFEN® Blood Orange Crush', 'https://www.thecocktailproject.com/drink-recipes/effen-blood-orange-crush'), ('Knob Creek® Rye Old Fashioned', 'https://www.thecocktailproject.com/drink-recipes/knob-creek-rye-old-fashioned'), ('C.C.® & Cola', 'https://www.thecocktailproject.com/drink-recipes/cc-cola'), ('Tres Gen® Paloma', 'https://www.thecocktailproject.com/drink-recipes/tres-gen-tequila-paloma'), ('Sipsmith® Martini', 'https://www.thecocktailproject.com/drink-recipes/sipsmith-martini'), ('Kilbeggan® Irish Coffee', 'https://www.thecocktailproject.com/drink-recipes/irish-coffee'), ('Pinnacle® Black Widow Martini', 'https://www.thecocktailproject.com/drink-recipes/black-widow-martini'), ('Haku® Highball (“Haku-Hi”)', 'https://www.thecocktailproject.com/drink-recipes/haku-highball'), ('Toki® Highball', 'https://www.thecocktailproject.com/drink-recipes/toki-highball'), ('Roku® Gin Sonic', 'https://www.thecocktailproject.com/drink-recipes/roku-gin-sonic'), ('Courvoisier® Gala', 'https://www.thecocktailproject.com/drink-recipes/courvoisier-gala'), ('SQRRL® An Apple A Day', 'https://www.thecocktailproject.com/drink-recipes/sqrrl-apple-day'), ('SQRRL® Top Banana', 'https://www.thecocktailproject.com/drink-recipes/sqrrl-top-banana'), ('Sauza® Classic Margarita', 'https://www.thecocktailproject.com/drink-recipes/classic-margarita'), ('Cruzan® Safe Harbor', 'https://www.thecocktailproject.com/drink-recipes/dark-and-stormy'), ('El Tesoro® Paloma', 'https://www.thecocktailproject.com/drink-recipes/-el-tesoro-paloma'), ('SQRRL® Carajillo', 'https://www.thecocktailproject.com/drink-recipes/sqrrl-carajillo'), ('SQRRL® PB Manhattan', 'https://www.thecocktailproject.com/drink-recipes/sqrrl-pb-manhattan'), ('Classic Hornitos® Paloma', 'https://www.thecocktailproject.com/drink-recipes/classic-hornitos-paloma'), (\"Maker's Mark® Gold Rush\", 'https://www.thecocktailproject.com/drink-recipes/makers-mark-gold-rush'), ('Legent® Blossom Old Fashioned', 'https://www.thecocktailproject.com/drink-recipes/legent-blossom-old-fashioned'), ('Basil Hayden®\\nBoulevardier', 'https://www.thecocktailproject.com/drink-recipes/basil-hayden-boulevardier'), ('Knob Creek® Old Fashioned', 'https://www.thecocktailproject.com/drink-recipes/knob-creek-old-fashioned'), ('Pinnacle® Peppermint Hot Chocolate', 'https://www.thecocktailproject.com/drink-recipes/peppermint-hot-chocolate'), ('Cruzan® Coquito', 'https://www.thecocktailproject.com/drink-recipes/cruzan-coquito'), ('Cruzan® Cranberry Cider Punch', 'https://www.thecocktailproject.com/drink-recipes/cruzan-cranberry-cider-punch'), ('Pinnacle® Holly Jolly Punch', 'https://www.thecocktailproject.com/drink-recipes/holly-jolly-punch'), ('Hornitos® Shot-Taker\\nMargarita', 'https://www.thecocktailproject.com/drink-recipes/hornitos-shot-taker-margarita'), (\"El Tesoro® Tommy's Margarita\", 'https://www.thecocktailproject.com/drink-recipes/el-tesoro-tommys-margarita'), ('Half & Half Punch', 'https://www.thecocktailproject.com/drink-recipes/half-half-punch'), ('Summer Fish Bowl', 'https://www.thecocktailproject.com/drink-recipes/summer-fish-bowl'), ('Blue Margarita', 'https://www.thecocktailproject.com/drink-recipes/blue-margarita'), ('Still Steam', 'https://www.thecocktailproject.com/drink-recipes/still-steam'), ('The Wheel', 'https://www.thecocktailproject.com/drink-recipes/wheel'), ('Kilbeggan® Brosna Sour', 'https://www.thecocktailproject.com/drink-recipes/kilbeggan-brosna-sour'), ('Gingerbread Sour', 'https://www.thecocktailproject.com/drink-recipes/gingerbread-sour'), ('Gin & Tonic', 'https://www.thecocktailproject.com/drink-recipes/gin-tonic'), ('Negroni', 'https://www.thecocktailproject.com/drink-recipes/negroni'), ('Sideline Sipper', 'https://www.thecocktailproject.com/drink-recipes/sideline-sipper'), ('Blue Lagoon', 'https://www.thecocktailproject.com/drink-recipes/blue-lagoon'), ('Home Team Punch', 'https://www.thecocktailproject.com/drink-recipes/home-team-punch'), ('Red Zone', 'https://www.thecocktailproject.com/drink-recipes/red-zone'), ('Sour Apple Highball', 'https://www.thecocktailproject.com/drink-recipes/sour-apple-highball'), ('Yellowhammer', 'https://www.thecocktailproject.com/drink-recipes/yellowhammer'), ('Blue Mule', 'https://www.thecocktailproject.com/drink-recipes/blue-mule'), ('Watermelon Rush', 'https://www.thecocktailproject.com/drink-recipes/watermelon-rush'), ('Black & Gold', 'https://www.thecocktailproject.com/drink-recipes/black-gold'), ('Cubbie Blue', 'https://www.thecocktailproject.com/drink-recipes/cubbie-blue'), ('Orangesicle', 'https://www.thecocktailproject.com/drink-recipes/orangesicle'), ('Cranberry Mojito', 'https://www.thecocktailproject.com/drink-recipes/cranberry-mojito'), ('Blue Flurry', 'https://www.thecocktailproject.com/drink-recipes/blue-flurry'), ('Bourbon Cider Sour', 'https://www.thecocktailproject.com/drink-recipes/bourbon-cider-sour'), ('Laphroaig® Blood Mary Queen of Scots', 'https://www.thecocktailproject.com/drink-recipes/laphroaig-blood-mary-queen-scots'), ('Pumpkin Spice White Russian', 'https://www.thecocktailproject.com/drink-recipes/pumpkin-spice-white-russian'), ('Au-Kee-Ta', 'https://www.thecocktailproject.com/drink-recipes/au-kee-ta'), ('Glasgow Seelbach', 'https://www.thecocktailproject.com/drink-recipes/glasgow-seelbach'), ('Bobby Burns', 'https://www.thecocktailproject.com/drink-recipes/bobby-burns'), ('Rob Roy', 'https://www.thecocktailproject.com/drink-recipes/rob-roy'), ('Zombie', 'https://www.thecocktailproject.com/drink-recipes/zombie'), ('Beer & Loathing', 'https://www.thecocktailproject.com/drink-recipes/beer-loathing'), ('Berry White', 'https://www.thecocktailproject.com/drink-recipes/berry-white'), ('Lemon Tell You Somethin’ Honey', 'https://www.thecocktailproject.com/drink-recipes/lemon-tell-you-somethin-honey'), ('It’s Bitter to Be Hoppy', 'https://www.thecocktailproject.com/drink-recipes/it-s-bitter-be-hoppy'), ('Laphroaig® Land and Sea', 'https://www.thecocktailproject.com/drink-recipes/laphroaig-land-and-sea'), ('Laphroaig® Broadbay Sour', 'https://www.thecocktailproject.com/drink-recipes/laphroaig-broadbay-sour'), ('Laphroaig® Back Yard Collins', 'https://www.thecocktailproject.com/drink-recipes/laphroaig-back-yard-collins'), ('Prickly Pink Margarita', 'https://www.thecocktailproject.com/drink-recipes/prickly-pink-margarita'), ('Pina Punch', 'https://www.thecocktailproject.com/drink-recipes/pina-punch-0'), ('Sauza® Cilantro Jalapeno Margarita', 'https://www.thecocktailproject.com/drink-recipes/sauza-cilantro-jalapeno-margarita'), ('EFFEN® Green Apple Cooler', 'https://www.thecocktailproject.com/drink-recipes/effen-green-apple-cooler'), ('EFFEN® Raspberry Lemonade', 'https://www.thecocktailproject.com/drink-recipes/effen-raspberry-lemonade'), ('EFFEN® Blood Orange Mimosa', 'https://www.thecocktailproject.com/drink-recipes/effen-blood-orange-mimosa'), ('Black Sunset', 'https://www.thecocktailproject.com/drink-recipes/black-sunset'), ('Double Oak Whiskey Smash', 'https://www.thecocktailproject.com/drink-recipes/double-oak-whiskey-smash'), ('Jim Beam® Black Hot Toddy', 'https://www.thecocktailproject.com/drink-recipes/jim-beam-black-hot-toddy'), ('Cucumber Melon Margarita', 'https://www.thecocktailproject.com/drink-recipes/cucumber-melon-margarita'), ('Cucumber Cooler', 'https://www.thecocktailproject.com/drink-recipes/cucumber-cooler'), ('Buttershots® Old Fashioned', 'https://www.thecocktailproject.com/drink-recipes/buttershots-old-fashioned'), ('Paloma', 'https://www.thecocktailproject.com/drink-recipes/paloma'), ('Melon Berry Mist', 'https://www.thecocktailproject.com/drink-recipes/melon-berry-mist'), ('Rye Opener', 'https://www.thecocktailproject.com/drink-recipes/rye-opener'), ('Rye Squeeze', 'https://www.thecocktailproject.com/drink-recipes/rye-squeeze'), ('Bourbon Milk Punch', 'https://www.thecocktailproject.com/drink-recipes/bourbon-milk-punch'), ('Holiday Wreath', 'https://www.thecocktailproject.com/drink-recipes/holiday-wreath'), ('Yule Nog', 'https://www.thecocktailproject.com/drink-recipes/yule-nog'), ('Kiss Me Cocktail', 'https://www.thecocktailproject.com/drink-recipes/kiss-me-cocktail'), (\"Shark's Tooth\", 'https://www.thecocktailproject.com/drink-recipes/sharks-tooth'), ('Laphroaig® Penicillin', 'https://www.thecocktailproject.com/drink-recipes/laphroaig-penicillin'), ('Vodka Beast', 'https://www.thecocktailproject.com/drink-recipes/vodka-beast'), ('Cruzan® Mai Tai', 'https://www.thecocktailproject.com/drink-recipes/cruzan-mai-tai'), ('Tequila Sunrise', 'https://www.thecocktailproject.com/drink-recipes/tequila-sunrise'), ('Melon Cooler', 'https://www.thecocktailproject.com/drink-recipes/melon-cooler'), ('Derby Fizz', 'https://www.thecocktailproject.com/drink-recipes/derby-fizz'), ('Pineapple Crush', 'https://www.thecocktailproject.com/drink-recipes/pineapple-crush'), ('Mango Sunset', 'https://www.thecocktailproject.com/drink-recipes/mango-sunset'), ('Hot Buttery Barrel', 'https://www.thecocktailproject.com/drink-recipes/hot-buttery-barrel'), ('Basil Berry Mojito', 'https://www.thecocktailproject.com/drink-recipes/basil-berry-mojito'), ('Black Cherry Avalanche', 'https://www.thecocktailproject.com/drink-recipes/black-cherry-avalanche'), ('Derby Spritzer', 'https://www.thecocktailproject.com/drink-recipes/derby-spritzer'), ('Cucumber Watermelon Martini', 'https://www.thecocktailproject.com/drink-recipes/cucumber-watermelon-martini'), ('Sex On The Beach', 'https://www.thecocktailproject.com/drink-recipes/sex-on-the-beach'), ('Blue Lagoon Sangria', 'https://www.thecocktailproject.com/drink-recipes/blue-lagoon-sangria'), ('Banana ‘Nana Daiquiri', 'https://www.thecocktailproject.com/drink-recipes/banana-nana-daiquiri'), ('Sparkling Cherry Sangria', 'https://www.thecocktailproject.com/drink-recipes/sparkling-cherry-sangria'), ('Citrus-Spangled Spritzer', 'https://www.thecocktailproject.com/drink-recipes/citrus-spangled-spritzer'), ('Everblooming Fizz', 'https://www.thecocktailproject.com/drink-recipes/everblooming-fizz'), ('Blue Stallion Julep', 'https://www.thecocktailproject.com/drink-recipes/blue-stallion-julep'), ('Spicy Cucumber Margarita', 'https://www.thecocktailproject.com/drink-recipes/spicy-cucumber-margarita'), ('DeKuyper® Mintini', 'https://www.thecocktailproject.com/drink-recipes/dekuyper-mintini'), ('Berry Moscow Mule', 'https://www.thecocktailproject.com/drink-recipes/berry-moscow-mule'), ('Juicy Screw', 'https://www.thecocktailproject.com/drink-recipes/juicy-screw'), ('Berry Good Shandy', 'https://www.thecocktailproject.com/drink-recipes/berry-good-shandy'), ('David Beams 1838 Cocktail', 'https://www.thecocktailproject.com/drink-recipes/david-beams-1838-cocktail'), ('Courvoisier® Classic', 'https://www.thecocktailproject.com/drink-recipes/courvoisier-classic'), ('Tropical Spice', 'https://www.thecocktailproject.com/drink-recipes/tropical-spice'), ('Cognac Summit', 'https://www.thecocktailproject.com/drink-recipes/cognac-summit'), ('Classic Mojito', 'https://www.thecocktailproject.com/drink-recipes/classic-mojito'), ('Shining Light Spice', 'https://www.thecocktailproject.com/drink-recipes/shining-light-spice'), ('Louisville Skyline', 'https://www.thecocktailproject.com/drink-recipes/louisville-skyline'), ('Basil Hayden’s® Classic Manhattan', 'https://www.thecocktailproject.com/drink-recipes/basil-haydens-classic-manhattan'), ('Spiced Cherry Sipper', 'https://www.thecocktailproject.com/drink-recipes/spiced-cherry-sipper'), ('Spiced Cocoa', 'https://www.thecocktailproject.com/drink-recipes/spiced-cocoa'), ('Minted Joe', 'https://www.thecocktailproject.com/drink-recipes/minted-joe'), ('Spiced Christmas Punch', 'https://www.thecocktailproject.com/drink-recipes/spiced-christmas-punch'), ('Independence Spice', 'https://www.thecocktailproject.com/drink-recipes/independence-spice'), ('Pumpkin Bourbon Cider', 'https://www.thecocktailproject.com/drink-recipes/pumpkin-bourbon-cider'), ('Dad’s Bourbon Mary', 'https://www.thecocktailproject.com/drink-recipes/dad-s-bourbon-mary'), ('Guava Spice', 'https://www.thecocktailproject.com/drink-recipes/guava-spice'), ('Dry Rye Manhattan', 'https://www.thecocktailproject.com/drink-recipes/dry-rye-manhattan'), ('C.C.® & Ginger', 'https://www.thecocktailproject.com/drink-recipes/cc-ginger'), ('Tree Trimmer', 'https://www.thecocktailproject.com/drink-recipes/tree-trimmer'), ('Beam® & Hops', 'https://www.thecocktailproject.com/drink-recipes/beam-and-hops'), ('Limonlicious', 'https://www.thecocktailproject.com/drink-recipes/limonlicious'), ('Jim Beam Black®\\nManhattan', 'https://www.thecocktailproject.com/drink-recipes/jim-beam-black-manhattan'), ('Paris Dream', 'https://www.thecocktailproject.com/drink-recipes/paris-dream'), ('Flirty Fizz', 'https://www.thecocktailproject.com/drink-recipes/flirty-fizz'), ('Citrus Fizz', 'https://www.thecocktailproject.com/drink-recipes/citrus-fizz'), ('Pool Party Punch', 'https://www.thecocktailproject.com/drink-recipes/pool-party-punch'), ('Amaretto Sour', 'https://www.thecocktailproject.com/drink-recipes/amaretto-sour'), ('Samba Margarita', 'https://www.thecocktailproject.com/drink-recipes/samba-margarita'), ('Vodka Lemonade', 'https://www.thecocktailproject.com/drink-recipes/vodka-lemonade'), ('El Bombin', 'https://www.thecocktailproject.com/drink-recipes/el-bombin'), ('Zarza', 'https://www.thecocktailproject.com/drink-recipes/zarza'), ('Peach Old Fashioned', 'https://www.thecocktailproject.com/drink-recipes/peach-old-fashioned'), ('Game Day Peach Sour', 'https://www.thecocktailproject.com/drink-recipes/game-day-peach-sour'), ('Crisp Apple Ade', 'https://www.thecocktailproject.com/drink-recipes/crisp-apple-ade'), ('Orchard Twist', 'https://www.thecocktailproject.com/drink-recipes/orchard-twist'), ('Jim Beam® Apple Highball', 'https://www.thecocktailproject.com/drink-recipes/jim-beam-apple-highball'), ('Black Mule', 'https://www.thecocktailproject.com/drink-recipes/black-mule'), ('Passion Car', 'https://www.thecocktailproject.com/drink-recipes/passion-car'), ('Rye in Paradise', 'https://www.thecocktailproject.com/drink-recipes/rye-paradise'), ('The Contemporary', 'https://www.thecocktailproject.com/drink-recipes/contemporary'), ('First Class', 'https://www.thecocktailproject.com/drink-recipes/first-class-0'), ('Tequiliano', 'https://www.thecocktailproject.com/drink-recipes/tequiliano'), ('Courvoisier® Old Fashioned', 'https://www.thecocktailproject.com/drink-recipes/courvoisier-old-fashioned'), ('Blazer', 'https://www.thecocktailproject.com/drink-recipes/blazer'), ('Sparkling Cognac', 'https://www.thecocktailproject.com/drink-recipes/sparkling-cognac'), ('Chili Chocolate Orange', 'https://www.thecocktailproject.com/drink-recipes/chili-chocolate-orange'), ('Crusta', 'https://www.thecocktailproject.com/drink-recipes/crusta'), ('Courvoisier® Sidecar', 'https://www.thecocktailproject.com/drink-recipes/courvoisier-sidecar'), ('Apri Diem', 'https://www.thecocktailproject.com/drink-recipes/apri-diem'), ('A Warm Welcome', 'https://www.thecocktailproject.com/drink-recipes/warm-welcome'), ('Harbor Punch', 'https://www.thecocktailproject.com/drink-recipes/harbor-punch'), ('Stars & Stripes Spiced Ice', 'https://www.thecocktailproject.com/drink-recipes/stars-and-stripes-spiced-ice'), ('Honey Toddy', 'https://www.thecocktailproject.com/drink-recipes/honey-toddy'), ('Fireside Coco', 'https://www.thecocktailproject.com/drink-recipes/fireside-coco'), ('Fire Apple', 'https://www.thecocktailproject.com/drink-recipes/fire-apple'), ('Fire Drop', 'https://www.thecocktailproject.com/drink-recipes/fire-drop'), ('Red Stag® Half & Half', 'https://www.thecocktailproject.com/drink-recipes/red-stag-half-half'), ('Bloody Beam', 'https://www.thecocktailproject.com/drink-recipes/bloody-beam'), ('Beam® Ade', 'https://www.thecocktailproject.com/drink-recipes/beam-ade'), ('Jim Beam® Manhattan', 'https://www.thecocktailproject.com/drink-recipes/jim-beam-manhattan'), ('Kentucky Sweet Tea', 'https://www.thecocktailproject.com/drink-recipes/kentucky-sweet-tea'), ('Kentucky Sunrise', 'https://www.thecocktailproject.com/drink-recipes/kentucky-sunrise'), ('Cranberry Cooler', 'https://www.thecocktailproject.com/drink-recipes/cranberry-cooler'), ('DeKuyper® Fuzzy Beam', 'https://www.thecocktailproject.com/drink-recipes/dekuyper-fuzzy-beam'), ('Bourbon Sour', 'https://www.thecocktailproject.com/drink-recipes/bourbon-sour'), (\"Old '97\", 'https://www.thecocktailproject.com/drink-recipes/old-97'), ('Dernier Cri', 'https://www.thecocktailproject.com/drink-recipes/dernier-cri'), ('Jim Beam® Orleans', 'https://www.thecocktailproject.com/drink-recipes/jim-beam-orleans'), ('The Devil & Miss Mary', 'https://www.thecocktailproject.com/drink-recipes/devil-and-miss-mary'), ('The Rider', 'https://www.thecocktailproject.com/drink-recipes/rider'), ('Devil in the Morning', 'https://www.thecocktailproject.com/drink-recipes/devil-in-the-morning'), ('Dancing with the Devil', 'https://www.thecocktailproject.com/drink-recipes/dancing-with-the-devil'), (\"Jimmy's Best\", 'https://www.thecocktailproject.com/drink-recipes/jimmys-best'), ('Black Beauty', 'https://www.thecocktailproject.com/drink-recipes/black-beauty'), ('Front Porch Peach Tea', 'https://www.thecocktailproject.com/drink-recipes/front-porch-peach-tea'), ('Apple Highball', 'https://www.thecocktailproject.com/drink-recipes/apple-highball'), ('Melon Ball', 'https://www.thecocktailproject.com/drink-recipes/melon-ball'), ('Cruzan® Daiquiri', 'https://www.thecocktailproject.com/drink-recipes/cruzan-daiquiri'), ('Hurricane', 'https://www.thecocktailproject.com/drink-recipes/hurricane'), ('Jalapeño Margarita', 'https://www.thecocktailproject.com/drink-recipes/jalape-o-margarita'), ('Cucumber Martini', 'https://www.thecocktailproject.com/drink-recipes/cucumber-martini'), ('Cuba Libre', 'https://www.thecocktailproject.com/drink-recipes/cuba-libre'), ('Rum Runner', 'https://www.thecocktailproject.com/drink-recipes/rum-runner'), ('Vodka Collins', 'https://www.thecocktailproject.com/drink-recipes/vodka-collins'), ('Mango Rum Margarita', 'https://www.thecocktailproject.com/drink-recipes/mango-rum-margarita'), ('Vodka Gimlet', 'https://www.thecocktailproject.com/drink-recipes/vodka-gimlet'), ('Black Russian', 'https://www.thecocktailproject.com/drink-recipes/black-russian'), ('Strawberry Daiquiri', 'https://www.thecocktailproject.com/drink-recipes/strawberry-daiquiri'), ('Mudslide', 'https://www.thecocktailproject.com/drink-recipes/mudslide'), ('Moscow Mule', 'https://www.thecocktailproject.com/drink-recipes/moscow-mule'), ('Midori® and Ginger Beer', 'https://www.thecocktailproject.com/drink-recipes/midori-and-ginger-beer'), ('Green Eyed Ginger', 'https://www.thecocktailproject.com/drink-recipes/green-eyed-ginger'), ('Emerald Daiquiri', 'https://www.thecocktailproject.com/drink-recipes/emerald-daiquiri'), ('Midori® Jim and Ginger', 'https://www.thecocktailproject.com/drink-recipes/jim-and-ginger'), ('Garden Delight', 'https://www.thecocktailproject.com/drink-recipes/garden-delight'), ('Bourbon Cider Cocktail', 'https://www.thecocktailproject.com/drink-recipes/bourbon-cider-cocktail'), ('Kentucky Bubbly', 'https://www.thecocktailproject.com/drink-recipes/kentucky-bubbly'), ('Bourbon Bonn Bonn', 'https://www.thecocktailproject.com/drink-recipes/bourbon-bonn-bonn'), ('Bourbon Butter Pecan Milkshake', 'https://www.thecocktailproject.com/drink-recipes/bourbon-butter-pecan-milkshake'), (\"Maker's Mark® Eggnog\", 'https://www.thecocktailproject.com/drink-recipes/makers-mark-eggnog'), (\"Maker's (Non-Egg) Nog\", 'https://www.thecocktailproject.com/drink-recipes/makers-non-egg-nog'), ('Snow Cap', 'https://www.thecocktailproject.com/drink-recipes/snow-cap'), ('Apples and Bourbon', 'https://www.thecocktailproject.com/drink-recipes/apples-and-bourbon'), ('Apricot Sage Bourbon Cocktail', 'https://www.thecocktailproject.com/drink-recipes/apricot-sage-bourbon-cocktail'), ('Bourbon Tarragon Cooler', 'https://www.thecocktailproject.com/drink-recipes/bourbon-tarragon-cooler'), ('Fancy Bourbon Punch', 'https://www.thecocktailproject.com/drink-recipes/fancy-bourbon-punch'), ('La Mela', 'https://www.thecocktailproject.com/drink-recipes/la-mela'), ('Summer Mash Up', 'https://www.thecocktailproject.com/drink-recipes/summer-mash-up'), ('Old Fashioned', 'https://www.thecocktailproject.com/drink-recipes/old-fashioned'), ('The Chee Chee', 'https://www.thecocktailproject.com/drink-recipes/chee-chee'), ('The Fiscal Agent', 'https://www.thecocktailproject.com/drink-recipes/fiscal-agent'), ('The Unnecessary Noise', 'https://www.thecocktailproject.com/drink-recipes/unnecessary-noise'), ('Kentucky Coffee', 'https://www.thecocktailproject.com/drink-recipes/kentucky-coffee'), ('Yuzu Toddy', 'https://www.thecocktailproject.com/drink-recipes/yuzu-toddy'), ('Bourbon Ball', 'https://www.thecocktailproject.com/drink-recipes/bourbon-ball'), ('Citrus Basil Manhattan', 'https://www.thecocktailproject.com/drink-recipes/citrus-basil-manhattan'), ('Dram Sour', 'https://www.thecocktailproject.com/drink-recipes/dram-sour'), ('Le Provocateur', 'https://www.thecocktailproject.com/drink-recipes/le-provocateur'), (\"Maker's Mark® Manhattan\", 'https://www.thecocktailproject.com/drink-recipes/makers-mark-manhattan'), (\"Man O' War\", 'https://www.thecocktailproject.com/drink-recipes/man-o-war'), ('Oh Henry', 'https://www.thecocktailproject.com/drink-recipes/oh-henry'), ('The Samuels', 'https://www.thecocktailproject.com/drink-recipes/the-samuels'), ('After Midnight in Kentucky', 'https://www.thecocktailproject.com/drink-recipes/after-midnight-in-kentucky'), (\"Maker's Mark®  \\n  Mint Julep\", 'https://www.thecocktailproject.com/drink-recipes/makers-mark-mint-julep'), (\"Maker's Mark® Mojito\", 'https://www.thecocktailproject.com/drink-recipes/makers-mark-mojito'), ('Spaghetti Western', 'https://www.thecocktailproject.com/drink-recipes/spaghetti-western'), ('Strawberry Julep', 'https://www.thecocktailproject.com/drink-recipes/strawberry-julep'), ('Whisky Smash', 'https://www.thecocktailproject.com/drink-recipes/whisky-smash'), ('Bellini Manhattan', 'https://www.thecocktailproject.com/drink-recipes/bellini-manhattan'), ('Peach Lemonade Spritzer', 'https://www.thecocktailproject.com/drink-recipes/peach-lemonade-spritzer'), ('Fuzzy Beam', 'https://www.thecocktailproject.com/drink-recipes/fuzzy-beam'), ('Jim Beam® Lemonade', 'https://www.thecocktailproject.com/drink-recipes/jim-beam-lemonade'), ('Midori® Orange and Sparkling', 'https://www.thecocktailproject.com/drink-recipes/midori-orange-and-sparkling'), ('Blue Hawaii', 'https://www.thecocktailproject.com/drink-recipes/blue-hawaii'), ('Home Team Mojito', 'https://www.thecocktailproject.com/drink-recipes/home-team-mojito'), ('Apple Cider Float', 'https://www.thecocktailproject.com/drink-recipes/apple-cider-float'), ('Christmas Mint Kiss', 'https://www.thecocktailproject.com/drink-recipes/christmas-mint-kiss'), ('Purple Haze Martini', 'https://www.thecocktailproject.com/drink-recipes/purple-haze-martini'), ('Sauza® Peach Margarita', 'https://www.thecocktailproject.com/drink-recipes/sauza-peach-margarita'), ('New England Apple Pie', 'https://www.thecocktailproject.com/drink-recipes/new-england-apple-pie'), ('Candy Apple', 'https://www.thecocktailproject.com/drink-recipes/candy-apple'), ('Sugar Pop Martini', 'https://www.thecocktailproject.com/drink-recipes/sugar-pop-martini'), ('Downward Facing Daiquiri', 'https://www.thecocktailproject.com/drink-recipes/downward-facing-daiquiri'), ('Watermelon Pucker®', 'https://www.thecocktailproject.com/drink-recipes/watermelon-pucker'), ('DeKuyper® Banana Split', 'https://www.thecocktailproject.com/drink-recipes/dekuyper-banana-split'), ('Boozy Pumpkin Milkshake', 'https://www.thecocktailproject.com/drink-recipes/boozy-pumpkin-milkshake'), ('Classic Manhattan', 'https://www.thecocktailproject.com/drink-recipes/classic-manhattan'), ('Peach Sangria', 'https://www.thecocktailproject.com/drink-recipes/peach-sangria'), ('Mintini Martini', 'https://www.thecocktailproject.com/drink-recipes/mintini-martini'), ('Holly Jolly Punch', 'https://www.thecocktailproject.com/drink-recipes/holly-jolly-punch'), ('Key Lime Pie Martini', 'https://www.thecocktailproject.com/drink-recipes/key-lime-pie-martini'), ('Melon Creek Martini', 'https://www.thecocktailproject.com/drink-recipes/melon-creek-martini'), ('Pumpkin Pie Martini', 'https://www.thecocktailproject.com/drink-recipes/pumpkin-pie-martini'), ('Razzmatazz® Truffle Martini', 'https://www.thecocktailproject.com/drink-recipes/razzmatazz-truffle-martini'), ('Red Velvet Cake Martini', 'https://www.thecocktailproject.com/drink-recipes/red-velvet-cake-martini'), ('Sour Apple Popsicle Martini', 'https://www.thecocktailproject.com/drink-recipes/sour-apple-popsicle-martini'), ('Toffee Drop Martini', 'https://www.thecocktailproject.com/drink-recipes/toffee-drop-martini'), ('White Chocolate Raspberry Martini', 'https://www.thecocktailproject.com/drink-recipes/white-chocolate-raspberry-martini'), ('Razzmatazz® Sangria', 'https://www.thecocktailproject.com/drink-recipes/razzmatazz-sangria'), ('Spring Sangria', 'https://www.thecocktailproject.com/drink-recipes/spring-sangria'), ('Nectarita', 'https://www.thecocktailproject.com/drink-recipes/nectarita'), ('Blue Martini', 'https://www.thecocktailproject.com/drink-recipes/blue-martini'), ('Sauza® Razzmatazz Margarita', 'https://www.thecocktailproject.com/drink-recipes/sauza-razzmatazz-margarita'), ('Blushing Margarita', 'https://www.thecocktailproject.com/drink-recipes/blushing-margarita'), ('Cherry Margarita', 'https://www.thecocktailproject.com/drink-recipes/cherry-margarita'), ('Elderflower Margarita', 'https://www.thecocktailproject.com/drink-recipes/elderflower-margarita'), ('Coconut Snowball Martini', 'https://www.thecocktailproject.com/drink-recipes/coconut-snowball-martini'), ('Cran-Apple Martini', 'https://www.thecocktailproject.com/drink-recipes/cran-apple-martini'), ('Double Razzmatazz® Grape Martini', 'https://www.thecocktailproject.com/drink-recipes/double-razzmatazz-grape-martini'), ('Elderflower Martini', 'https://www.thecocktailproject.com/drink-recipes/elderflower-martini'), ('Ginger Martini', 'https://www.thecocktailproject.com/drink-recipes/ginger-martini'), ('Apple Colada', 'https://www.thecocktailproject.com/drink-recipes/apple-colada'), ('Lazy Day Colada', 'https://www.thecocktailproject.com/drink-recipes/lazy-day-colada'), ('Fall Sangria', 'https://www.thecocktailproject.com/drink-recipes/fall-sangria'), ('Banana Cinnamon Mojito', 'https://www.thecocktailproject.com/drink-recipes/banana-cinnamon-mojito'), ('Strawberry Lemonade Mojito', 'https://www.thecocktailproject.com/drink-recipes/strawberry-lemonade-mojito'), ('Cruzan® Peach Sangria', 'https://www.thecocktailproject.com/drink-recipes/cruzan-peach-sangria'), ('Peach Daiquiri', 'https://www.thecocktailproject.com/drink-recipes/peach-daiquiri'), ('Island Breeze', 'https://www.thecocktailproject.com/drink-recipes/island-breeze'), ('Classic Rum Punch', 'https://www.thecocktailproject.com/drink-recipes/classic-rum-punch'), ('Bay Breeze', 'https://www.thecocktailproject.com/drink-recipes/bay-breeze'), ('Banana Nana', 'https://www.thecocktailproject.com/drink-recipes/banana-nana'), ('Voodoo Hurricane', 'https://www.thecocktailproject.com/drink-recipes/voodoo-hurricane'), ('Rum Breeze', 'https://www.thecocktailproject.com/drink-recipes/rum-breeze'), ('Endless Summer Punch', 'https://www.thecocktailproject.com/drink-recipes/endless-summer-punch'), ('Cruzan® Confusion', 'https://www.thecocktailproject.com/drink-recipes/cruzan-confusion'), ('Pina Colada Martini', 'https://www.thecocktailproject.com/drink-recipes/pina-colada-martini'), ('Strawberry Rosemary Punch', 'https://www.thecocktailproject.com/drink-recipes/strawberry-rosemary-punch'), ('Cruzan® Colada', 'https://www.thecocktailproject.com/drink-recipes/cruzan-colada'), ('Mango Hurricane', 'https://www.thecocktailproject.com/drink-recipes/mango-hurricane'), ('Mango Mojito', 'https://www.thecocktailproject.com/drink-recipes/mango-mojito'), ('Cruzan® 9 Punch', 'https://www.thecocktailproject.com/drink-recipes/cruzan-9-punch'), ('Pineapple Smash', 'https://www.thecocktailproject.com/drink-recipes/pineapple-smash'), ('Strawberry Basil Spritzer', 'https://www.thecocktailproject.com/drink-recipes/strawberry-basil-spritzer'), ('Spiced Holly Highball', 'https://www.thecocktailproject.com/drink-recipes/spiced-holly-highball'), ('Strawberry Mai Tai', 'https://www.thecocktailproject.com/drink-recipes/strawberry-mai-tai'), ('Autumn-tini', 'https://www.thecocktailproject.com/drink-recipes/autumn-tini'), ('Hot Buttered Spiced Rum', 'https://www.thecocktailproject.com/drink-recipes/hot-buttered-spiced-rum'), ('Coconut Old Fashioned', 'https://www.thecocktailproject.com/drink-recipes/coconut-old-fashioned'), ('Chocolate Covered Cherry', 'https://www.thecocktailproject.com/drink-recipes/chocolate-covered-cherry'), ('Cruzan® Summer Breeze', 'https://www.thecocktailproject.com/drink-recipes/cruzan-summer-breeze'), ('Take 9', 'https://www.thecocktailproject.com/drink-recipes/take-9'), (\"Planter's Punch\", 'https://www.thecocktailproject.com/drink-recipes/planters-punch'), ('Slowpoke Shandy', 'https://www.thecocktailproject.com/drink-recipes/slowpoke-shandy'), ('Maple Leaf', 'https://www.thecocktailproject.com/drink-recipes/maple-leaf'), ('Key Lime Sparkler', 'https://www.thecocktailproject.com/drink-recipes/key-lime-sparkler'), ('Cruzan® Sidecar', 'https://www.thecocktailproject.com/drink-recipes/cruzan-sidecar'), ('Hot Toddy', 'https://www.thecocktailproject.com/drink-recipes/hot-toddy'), ('New Fashioned', 'https://www.thecocktailproject.com/drink-recipes/new-fashioned'), ('Light and Tonic', 'https://www.thecocktailproject.com/drink-recipes/light-and-tonic'), ('Cruzan® 9 Tea', 'https://www.thecocktailproject.com/drink-recipes/cruzan-9-tea'), ('Peach on the Beach', 'https://www.thecocktailproject.com/drink-recipes/peach-on-the-beach'), ('Paradise Punch', 'https://www.thecocktailproject.com/drink-recipes/paradise-punch'), ('Passion Fruit Passport', 'https://www.thecocktailproject.com/drink-recipes/passion-fruit-passport'), ('Hats Off Julep', 'https://www.thecocktailproject.com/drink-recipes/hats-off-julep'), (\"Weekenders' Punch\", 'https://www.thecocktailproject.com/drink-recipes/weekenders-punch'), ('Nil Fashioned', 'https://www.thecocktailproject.com/drink-recipes/nil-fashioned'), ('Sunset Daiquiri', 'https://www.thecocktailproject.com/drink-recipes/sunset-daiquiri'), (\"Smashin' Passion\", 'https://www.thecocktailproject.com/drink-recipes/smashin-passion'), ('Delusion', 'https://www.thecocktailproject.com/drink-recipes/delusion'), ('Cruzan® Banana Split', 'https://www.thecocktailproject.com/drink-recipes/cruzan-banana-split'), ('Peach Mojito', 'https://www.thecocktailproject.com/drink-recipes/peach-mojito'), ('Hornitos® Midori® Margarita', 'https://www.thecocktailproject.com/drink-recipes/hornitos-midori-margarita'), ('Hornitos® Black Barrel® Tequila Manhattan', 'https://www.thecocktailproject.com/drink-recipes/hornitos-black-barrel-tequila-manhattan'), ('Sunrise', 'https://www.thecocktailproject.com/drink-recipes/sunrise'), ('The Burgundy', 'https://www.thecocktailproject.com/drink-recipes/burgundy'), ('Hornitos® Black Barrel® Tequila Old Fashioned', 'https://www.thecocktailproject.com/drink-recipes/hornitos-black-barrel-tequila-old-fashioned'), ('The Money Maker', 'https://www.thecocktailproject.com/drink-recipes/money-maker'), ('Green River', 'https://www.thecocktailproject.com/drink-recipes/green-river'), ('Horchata', 'https://www.thecocktailproject.com/drink-recipes/horchata'), ('Stars and Stripes Bloody Mary', 'https://www.thecocktailproject.com/drink-recipes/stars-and-stripes-bloody-mary'), ('The Summer Friday', 'https://www.thecocktailproject.com/drink-recipes/summer-friday'), ('Death and Taxes', 'https://www.thecocktailproject.com/drink-recipes/death-and-taxes'), ('Mexican Mule', 'https://www.thecocktailproject.com/drink-recipes/mexican-mule'), ('Sauza® 901® Club', 'https://www.thecocktailproject.com/drink-recipes/sauza-901-club'), ('Mexican Julep', 'https://www.thecocktailproject.com/drink-recipes/mexican-julep'), ('Tequila Baybreeze', 'https://www.thecocktailproject.com/drink-recipes/tequila-baybreeze'), ('Ruby Sparkler', 'https://www.thecocktailproject.com/drink-recipes/ruby-sparkler'), ('Pequeña Colada', 'https://www.thecocktailproject.com/drink-recipes/peque-colada'), ('Mai Tequila', 'https://www.thecocktailproject.com/drink-recipes/mai-tequila'), ('Juan Collins', 'https://www.thecocktailproject.com/drink-recipes/juan-collins'), ('Sauza® Blue', 'https://www.thecocktailproject.com/drink-recipes/sauza-blue'), ('Classic Margarita', 'https://www.thecocktailproject.com/drink-recipes/classic-margarita'), ('Premier Margarita', 'https://www.thecocktailproject.com/drink-recipes/premier-margarita'), ('Sauza® Watermelon Margarita', 'https://www.thecocktailproject.com/drink-recipes/sauza-watermelon-margarita'), ('Bloody Maria', 'https://www.thecocktailproject.com/drink-recipes/bloody-maria'), ('Midori® Margarita', 'https://www.thecocktailproject.com/drink-recipes/midori-margarita'), ('Sauza® Strawberry Sparkler', 'https://www.thecocktailproject.com/drink-recipes/sauza-strawberry-sparkler'), ('Candy Apple Margarita', 'https://www.thecocktailproject.com/drink-recipes/candy-apple-margarita'), ('Dirty Martini', 'https://www.thecocktailproject.com/drink-recipes/dirty-martini'), (\"Midnight's Kiss\", 'https://www.thecocktailproject.com/drink-recipes/midnights-kiss'), ('Peachy Keen', 'https://www.thecocktailproject.com/drink-recipes/peachy-keen'), ('Peppermint Hot Chocolate', 'https://www.thecocktailproject.com/drink-recipes/peppermint-hot-chocolate'), ('Orange Dreamsicle', 'https://www.thecocktailproject.com/drink-recipes/orange-dreamsicle'), ('Red Greyhound Pinn-Tini', 'https://www.thecocktailproject.com/drink-recipes/red-greyhound-pinn-tini'), ('Vanilla Cream Berry-Tini', 'https://www.thecocktailproject.com/drink-recipes/vanilla-cream-berry-tini'), ('Chocolate Covered Berries', 'https://www.thecocktailproject.com/drink-recipes/chocolate-covered-berries'), ('Mocha Razz-Tini', 'https://www.thecocktailproject.com/drink-recipes/mocha-razz-tini'), ('Pineapple Razztini', 'https://www.thecocktailproject.com/drink-recipes/pineapple-razztini'), ('Peach Iced Tea', 'https://www.thecocktailproject.com/drink-recipes/peach-iced-tea'), ('Sunset Martini', 'https://www.thecocktailproject.com/drink-recipes/sunset-martini'), ('Mango Cran-Tini', 'https://www.thecocktailproject.com/drink-recipes/mango-cran-tini'), ('Kiwi Zest Martini', 'https://www.thecocktailproject.com/drink-recipes/kiwi-zest-martini'), ('Grape Cosmo', 'https://www.thecocktailproject.com/drink-recipes/grape-cosmo'), ('Pinnacle® Summer Breeze', 'https://www.thecocktailproject.com/drink-recipes/pinnacle-summer-breeze'), ('Sunset Tea', 'https://www.thecocktailproject.com/drink-recipes/sunset-tea'), ('Pink Pineapple-Tini', 'https://www.thecocktailproject.com/drink-recipes/pink-pineapple-tini'), ('Coconut Spritzer', 'https://www.thecocktailproject.com/drink-recipes/coconut-spritzer'), ('Cran Tropic-Tini', 'https://www.thecocktailproject.com/drink-recipes/cran-tropic-tini'), ('Paris Escape', 'https://www.thecocktailproject.com/drink-recipes/paris-escape'), ('Sunday Funday Bloody Mary', 'https://www.thecocktailproject.com/drink-recipes/sunday-funday-bloody-mary'), ('Orange Coco-Naut Cosmos', 'https://www.thecocktailproject.com/drink-recipes/orange-coco-naut-cosmos'), (\"S'mmmores\", 'https://www.thecocktailproject.com/drink-recipes/smmmores'), ('Ooh La La Lemon', 'https://www.thecocktailproject.com/drink-recipes/ooh-la-la-lemon'), ('Classic Cosmo', 'https://www.thecocktailproject.com/drink-recipes/classic-cosmo'), ('Strawberry Basil', 'https://www.thecocktailproject.com/drink-recipes/strawberry-basil'), ('Skinnygirl® Bloody Mary', 'https://www.thecocktailproject.com/drink-recipes/skinnygirl-bloody-mary'), ('Handsome Ginger', 'https://www.thecocktailproject.com/drink-recipes/handsome-ginger')])"
      ]
     },
     "execution_count": 5,
     "metadata": {},
     "output_type": "execute_result"
    }
   ],
   "source": [
    "cocktails_dict.items()"
   ]
  },
  {
   "cell_type": "code",
   "execution_count": 109,
   "metadata": {},
   "outputs": [
    {
     "data": {
      "text/plain": [
       "{'link': 'https://www.thecocktailproject.com/Espresso-Martini',\n",
       " 'image_link': 'https://www.thecocktailproject.com/sites/default/files/styles/grid-thumb/public/EspressoMartini.jpg?itok=161L5upy'}"
      ]
     },
     "execution_count": 109,
     "metadata": {},
     "output_type": "execute_result"
    }
   ],
   "source": [
    "cocktails_dict[\"Espresso Martini\"]"
   ]
  },
  {
   "cell_type": "code",
   "execution_count": 111,
   "metadata": {},
   "outputs": [
    {
     "name": "stdout",
     "output_type": "stream",
     "text": [
      "Ingredients:\n",
      "Ingredients2 partsSauza®Silver Tequila1 partDeKuyper®Triple Sec Liqueur½ partDeKuyper®Blue Curacao Liqueur2 partsLime JuiceGarnish: Lime, Blueberries,SaltShopping listBuy Now\n"
     ]
    }
   ],
   "source": [
    "# Ingredients 뽑는 중\n",
    "from selenium import webdriver\n",
    "from selenium.webdriver.chrome.service import Service as ChromeService\n",
    "from webdriver_manager.chrome import ChromeDriverManager\n",
    "from selenium.webdriver.common.by import By\n",
    "from selenium.webdriver.support.ui import WebDriverWait\n",
    "from selenium.webdriver.support import expected_conditions as EC\n",
    "from bs4 import BeautifulSoup\n",
    "\n",
    "# Set up the Chrome driver\n",
    "driver = webdriver.Chrome(service=ChromeService(ChromeDriverManager().install()))\n",
    "\n",
    "# URL of the cocktail detail page\n",
    "url = 'https://www.thecocktailproject.com/drink-recipes/blue-margarita/'\n",
    "\n",
    "# Open the cocktail detail page\n",
    "driver.get(url)\n",
    "\n",
    "# Wait for the ingredients to load\n",
    "wait = WebDriverWait(driver, 10)\n",
    "ingredients_element = wait.until(EC.presence_of_element_located((By.CSS_SELECTOR, '.ingredients-block')))\n",
    "\n",
    "# Extract the ingredients\n",
    "ingredients_html = ingredients_element.get_attribute('innerHTML')\n",
    "ingredients_soup = BeautifulSoup(ingredients_html, 'html.parser')\n",
    "ingredients_text = ingredients_soup.get_text(strip=True)\n",
    "\n",
    "# Split the ingredients into separate lines\n",
    "ingredients_list = [line.strip() for line in ingredients_text.split('\\n') if line.strip()]\n",
    "\n",
    "print(\"Ingredients:\")\n",
    "for ingredient in ingredients_list:\n",
    "    print(ingredient)\n"
   ]
  },
  {
   "cell_type": "code",
   "execution_count": 119,
   "metadata": {},
   "outputs": [
    {
     "name": "stdout",
     "output_type": "stream",
     "text": [
      "Ingredients:\n",
      "2 parts Sauza® Silver Tequila \n",
      "1 part DeKuyper® Triple Sec Liqueur 1/2 part DeKuyper® Blue Curacao Liqueur \n",
      "2 parts Lime Juice Garnish: Lime, Blueberries, Salt SHOPPING LIST BUY NOW\n"
     ]
    }
   ],
   "source": [
    "# Ingredients 뽑는 중\n",
    "\n",
    "import re\n",
    "from selenium import webdriver\n",
    "from selenium.webdriver.chrome.service import Service as ChromeService\n",
    "from webdriver_manager.chrome import ChromeDriverManager\n",
    "from selenium.webdriver.common.by import By\n",
    "from selenium.webdriver.support.ui import WebDriverWait\n",
    "from selenium.webdriver.support import expected_conditions as EC\n",
    "\n",
    "# Set up the Chrome driver\n",
    "driver = webdriver.Chrome(service=ChromeService(ChromeDriverManager().install()))\n",
    "\n",
    "# URL of the cocktail detail page\n",
    "url = 'https://www.thecocktailproject.com/drink-recipes/blue-margarita/'\n",
    "\n",
    "# Open the cocktail detail page\n",
    "driver.get(url)\n",
    "\n",
    "# Wait for the ingredients to load\n",
    "wait = WebDriverWait(driver, 10)\n",
    "ingredients_element = wait.until(EC.presence_of_element_located((By.CSS_SELECTOR, '.ingredients-block')))\n",
    "\n",
    "# Extract the ingredients\n",
    "ingredients_text = ingredients_element.text\n",
    "\n",
    "# Use regular expressions to split the text into separate lines\n",
    "ingredients_list = re.findall(r'\\d+\\s*(?:½|¼)?\\s*(?:parts|Garnish:)?\\s*\\S+\\s*\\S+\\s*[\\S\\s]*?(?=\\d+\\s*(?:½|¼)?\\s*(?:parts|Garnish:)?\\s*\\S+\\s*\\S+|$)', ingredients_text)\n",
    "\n",
    "# Replace '½' with '1/2' and '\\n' with ' ' for each element in the ingredients_list\n",
    "ingredients_list = [ingredient.replace('½', '1/2').replace('\\n', ' ').replace('¼', '1/4') for ingredient in ingredients_list]\n",
    "\n",
    "ingredients_list\n",
    "print(\"Ingredients:\")\n",
    "for ingredient in ingredients_list:\n",
    "    print(ingredient)\n"
   ]
  },
  {
   "cell_type": "code",
   "execution_count": 126,
   "metadata": {},
   "outputs": [
    {
     "data": {
      "text/plain": [
       "['2 parts Sauza® Silver Tequila ',\n",
       " '1 part DeKuyper® Triple Sec Liqueur 1/2 part DeKuyper® Blue Curacao Liqueur ',\n",
       " '2 parts Lime Juice Garnish: Lime, Blueberries, Salt SHOPPING LIST BUY NOW']"
      ]
     },
     "execution_count": 126,
     "metadata": {},
     "output_type": "execute_result"
    }
   ],
   "source": [
    "ingredients_list = [ingredient.replace('½', '\\n1/2') for ingredient in ingredients_list]\n",
    "ingredients_list = [ingredient.replace('\\n', ' ').replace('¼', '1/4') for ingredient in ingredients_list]\n",
    "\n",
    "ingredients_list"
   ]
  },
  {
   "cell_type": "code",
   "execution_count": null,
   "metadata": {},
   "outputs": [],
   "source": []
  }
 ],
 "metadata": {
  "kernelspec": {
   "display_name": "base",
   "language": "python",
   "name": "python3"
  },
  "language_info": {
   "codemirror_mode": {
    "name": "ipython",
    "version": 3
   },
   "file_extension": ".py",
   "mimetype": "text/x-python",
   "name": "python",
   "nbconvert_exporter": "python",
   "pygments_lexer": "ipython3",
   "version": "3.9.12"
  },
  "orig_nbformat": 4
 },
 "nbformat": 4,
 "nbformat_minor": 2
}
